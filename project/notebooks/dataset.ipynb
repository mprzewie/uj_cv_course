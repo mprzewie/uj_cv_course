{
 "cells": [
  {
   "cell_type": "code",
   "execution_count": null,
   "metadata": {},
   "outputs": [],
   "source": [
    "%load_ext autoreload\n",
    "%autoreload 2"
   ]
  },
  {
   "cell_type": "code",
   "execution_count": null,
   "metadata": {},
   "outputs": [],
   "source": [
    "import sys\n",
    "sys.path.append(\"../../\")"
   ]
  },
  {
   "cell_type": "code",
   "execution_count": null,
   "metadata": {},
   "outputs": [],
   "source": [
    "from project.utils.ds.dataset import BoxedExamplesDataset, transform_chain, LazyBoxedExamplesDataset\n",
    "from pathlib import Path\n",
    "from project.utils.ds import transforms as tr\n",
    "from project.utils.ds.images import is_grayscale\n",
    "import numpy as np\n",
    "from torchvision.transforms import Compose\n",
    "from project.utils.ds.dataset import transform_chain"
   ]
  },
  {
   "cell_type": "code",
   "execution_count": null,
   "metadata": {},
   "outputs": [],
   "source": [
    "train_path = Path(\"../data/stage1_train/\")\n",
    "ds = LazyBoxedExamplesDataset(train_path, transform = Compose(transform_chain))"
   ]
  },
  {
   "cell_type": "code",
   "execution_count": null,
   "metadata": {},
   "outputs": [],
   "source": [
    "from project.utils.ds import transforms as tr\n",
    "from project.utils.ds import random_transforms as rnd\n",
    "\n",
    "transform_chain = [\n",
    "    tr.to_grayscale,\n",
    "    tr.flip_color_on_intensity_heuristic,\n",
    "    tr.max_pixel_to_255,\n",
    "    rnd.random_transform(tr.rotate, rnd.rotate_90_sampler()),\n",
    "    rnd.random_transform(tr.rotate, rnd.rotate_sampler(amplitude=15)),\n",
    "    tr.resize_to_min_300,\n",
    "    rnd.random_transform(tr.crop, rnd.constant_crop_size_sampler(crop_size=256/300)),\n",
    "#     tr.to_tensors_tuple\n",
    "]"
   ]
  },
  {
   "cell_type": "code",
   "execution_count": null,
   "metadata": {},
   "outputs": [],
   "source": [
    "ds.transform = Compose(transform_chain)\n",
    "\n",
    "ex = ds[13]\n",
    "\n",
    "ex.vis_segmasks(alpha=0.5)\n",
    "ex.vis_boxes(2)\n",
    "ex"
   ]
  },
  {
   "cell_type": "code",
   "execution_count": null,
   "metadata": {},
   "outputs": [],
   "source": [
    "tr.rotate(ex, 15).vis_boxes()"
   ]
  },
  {
   "cell_type": "code",
   "execution_count": null,
   "metadata": {},
   "outputs": [],
   "source": []
  }
 ],
 "metadata": {
  "kernelspec": {
   "display_name": "Python (uj)",
   "language": "python",
   "name": "uj"
  },
  "language_info": {
   "codemirror_mode": {
    "name": "ipython",
    "version": 3
   },
   "file_extension": ".py",
   "mimetype": "text/x-python",
   "name": "python",
   "nbconvert_exporter": "python",
   "pygments_lexer": "ipython3",
   "version": "3.7.4"
  }
 },
 "nbformat": 4,
 "nbformat_minor": 2
}
