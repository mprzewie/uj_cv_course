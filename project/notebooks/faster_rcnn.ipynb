{
  "nbformat": 4,
  "nbformat_minor": 0,
  "metadata": {
    "colab": {
      "name": "faster_rcnn.ipynb",
      "provenance": [],
      "collapsed_sections": [],
      "toc_visible": true,
      "machine_shape": "hm"
    },
    "kernelspec": {
      "name": "python3",
      "display_name": "Python 3"
    },
    "accelerator": "GPU"
  },
  "cells": [
    {
      "cell_type": "markdown",
      "metadata": {
        "id": "vhEon3omNqya",
        "colab_type": "text"
      },
      "source": [
        "# Faster-R-CNN\n"
      ]
    },
    {
      "cell_type": "markdown",
      "metadata": {
        "id": "93oFBWgUT80Z",
        "colab_type": "text"
      },
      "source": [
        "## Setup - this shouldn't be changed, only re-executed if need be"
      ]
    },
    {
      "cell_type": "markdown",
      "metadata": {
        "id": "AjAIfKPbPkRf",
        "colab_type": "text"
      },
      "source": [
        "### Clone, update and import the repo"
      ]
    },
    {
      "cell_type": "code",
      "metadata": {
        "id": "3dpAKcXNMiC1",
        "colab_type": "code",
        "outputId": "b9a226e9-9271-4993-ffb6-9c101abfb0db",
        "colab": {
          "base_uri": "https://localhost:8080/",
          "height": 141
        }
      },
      "source": [
        "repo_name = \"uj_cv_course\"\n",
        "repo_url = f\"https://github.com/mprzewie/{repo_name}\"\n",
        "!if [ -d $repo_name ]; then rm -Rf $repo_name; fi\n",
        "!git clone $repo_url\n",
        "import sys\n",
        "if repo_name not in sys.path:\n",
        "  sys.path.append(repo_name)\n"
      ],
      "execution_count": 0,
      "outputs": [
        {
          "output_type": "stream",
          "text": [
            "Cloning into 'uj_cv_course'...\n",
            "remote: Enumerating objects: 233, done.\u001b[K\n",
            "remote: Counting objects: 100% (233/233), done.\u001b[K\n",
            "remote: Compressing objects: 100% (167/167), done.\u001b[K\n",
            "remote: Total 233 (delta 117), reused 172 (delta 59), pack-reused 0\u001b[K\n",
            "Receiving objects: 100% (233/233), 2.00 MiB | 1.86 MiB/s, done.\n",
            "Resolving deltas: 100% (117/117), done.\n"
          ],
          "name": "stdout"
        }
      ]
    },
    {
      "cell_type": "markdown",
      "metadata": {
        "id": "AHP37yoDVReS",
        "colab_type": "text"
      },
      "source": [
        "### Install the dependencies\n",
        "\n",
        "`requirements.txt` from the repo should be our source of truth regarding package versions."
      ]
    },
    {
      "cell_type": "code",
      "metadata": {
        "id": "Bhe84LyfVUuI",
        "colab_type": "code",
        "outputId": "bd61fa28-bc0e-46bd-82cc-dc1d22b8fa15",
        "colab": {
          "base_uri": "https://localhost:8080/",
          "height": 1000
        }
      },
      "source": [
        "!pip install -r uj_cv_course/requirements.txt\n",
        "import os\n",
        "os.kill(os.getpid(), 9) #restart runtima - konieczny aby załadować poprawnie powyższe paczki"
      ],
      "execution_count": 0,
      "outputs": [
        {
          "output_type": "stream",
          "text": [
            "Collecting tqdm==4.36.1\n",
            "\u001b[?25l  Downloading https://files.pythonhosted.org/packages/e1/c1/bc1dba38b48f4ae3c4428aea669c5e27bd5a7642a74c8348451e0bd8ff86/tqdm-4.36.1-py2.py3-none-any.whl (52kB)\n",
            "\r\u001b[K     |██████▏                         | 10kB 34.7MB/s eta 0:00:01\r\u001b[K     |████████████▍                   | 20kB 1.6MB/s eta 0:00:01\r\u001b[K     |██████████████████▋             | 30kB 2.4MB/s eta 0:00:01\r\u001b[K     |████████████████████████▉       | 40kB 1.6MB/s eta 0:00:01\r\u001b[K     |███████████████████████████████ | 51kB 2.0MB/s eta 0:00:01\r\u001b[K     |████████████████████████████████| 61kB 2.0MB/s \n",
            "\u001b[?25hCollecting Pillow==6.2.1\n",
            "\u001b[?25l  Downloading https://files.pythonhosted.org/packages/10/5c/0e94e689de2476c4c5e644a3bd223a1c1b9e2bdb7c510191750be74fa786/Pillow-6.2.1-cp36-cp36m-manylinux1_x86_64.whl (2.1MB)\n",
            "\u001b[K     |████████████████████████████████| 2.1MB 7.9MB/s \n",
            "\u001b[?25hCollecting cached_property==1.5.1\n",
            "  Downloading https://files.pythonhosted.org/packages/3b/86/85c1be2e8db9e13ef9a350aecd6dea292bd612fa288c2f40d035bb750ded/cached_property-1.5.1-py2.py3-none-any.whl\n",
            "Collecting scikit-learn==0.21.3\n",
            "\u001b[?25l  Downloading https://files.pythonhosted.org/packages/a0/c5/d2238762d780dde84a20b8c761f563fe882b88c5a5fb03c056547c442a19/scikit_learn-0.21.3-cp36-cp36m-manylinux1_x86_64.whl (6.7MB)\n",
            "\u001b[K     |████████████████████████████████| 6.7MB 47.5MB/s \n",
            "\u001b[?25hCollecting scipy==1.3.1\n",
            "\u001b[?25l  Downloading https://files.pythonhosted.org/packages/29/50/a552a5aff252ae915f522e44642bb49a7b7b31677f9580cfd11bcc869976/scipy-1.3.1-cp36-cp36m-manylinux1_x86_64.whl (25.2MB)\n",
            "\u001b[K     |████████████████████████████████| 25.2MB 129kB/s \n",
            "\u001b[?25hRequirement already satisfied: seaborn==0.9.0 in /usr/local/lib/python3.6/dist-packages (from -r uj_cv_course/requirements.txt (line 6)) (0.9.0)\n",
            "Requirement already satisfied: six==1.12.0 in /usr/local/lib/python3.6/dist-packages (from -r uj_cv_course/requirements.txt (line 7)) (1.12.0)\n",
            "Requirement already satisfied: sklearn==0.0 in /usr/local/lib/python3.6/dist-packages (from -r uj_cv_course/requirements.txt (line 8)) (0.0)\n",
            "Requirement already satisfied: termcolor==1.1.0 in /usr/local/lib/python3.6/dist-packages (from -r uj_cv_course/requirements.txt (line 9)) (1.1.0)\n",
            "Collecting testpath==0.4.2\n",
            "\u001b[?25l  Downloading https://files.pythonhosted.org/packages/be/a4/162f9ebb6489421fe46dcca2ae420369edfee4b563c668d93cb4605d12ba/testpath-0.4.2-py2.py3-none-any.whl (163kB)\n",
            "\u001b[K     |████████████████████████████████| 163kB 54.7MB/s \n",
            "\u001b[?25hRequirement already satisfied: torch==1.3.1 in /usr/local/lib/python3.6/dist-packages (from -r uj_cv_course/requirements.txt (line 11)) (1.3.1)\n",
            "Requirement already satisfied: pycocotools==2.0.0 in /usr/local/lib/python3.6/dist-packages (from -r uj_cv_course/requirements.txt (line 12)) (2.0.0)\n",
            "Collecting torchvision==0.4.1\n",
            "\u001b[?25l  Downloading https://files.pythonhosted.org/packages/fc/23/d418c9102d4054d19d57ccf0aca18b7c1c1f34cc0a136760b493f78ddb06/torchvision-0.4.1-cp36-cp36m-manylinux1_x86_64.whl (10.1MB)\n",
            "\u001b[K     |████████████████████████████████| 10.1MB 26.9MB/s \n",
            "\u001b[?25hCollecting efficientnet-pytorch==0.5.1\n",
            "  Downloading https://files.pythonhosted.org/packages/82/18/1c4d61eea11b78235ce270a528e099b19af2f1026aadf45e9c645cd75e2f/efficientnet_pytorch-0.5.1.tar.gz\n",
            "Requirement already satisfied: joblib>=0.11 in /usr/local/lib/python3.6/dist-packages (from scikit-learn==0.21.3->-r uj_cv_course/requirements.txt (line 4)) (0.14.1)\n",
            "Requirement already satisfied: numpy>=1.11.0 in /usr/local/lib/python3.6/dist-packages (from scikit-learn==0.21.3->-r uj_cv_course/requirements.txt (line 4)) (1.17.5)\n",
            "Requirement already satisfied: matplotlib>=1.4.3 in /usr/local/lib/python3.6/dist-packages (from seaborn==0.9.0->-r uj_cv_course/requirements.txt (line 6)) (3.1.2)\n",
            "Requirement already satisfied: pandas>=0.15.2 in /usr/local/lib/python3.6/dist-packages (from seaborn==0.9.0->-r uj_cv_course/requirements.txt (line 6)) (0.25.3)\n",
            "Requirement already satisfied: kiwisolver>=1.0.1 in /usr/local/lib/python3.6/dist-packages (from matplotlib>=1.4.3->seaborn==0.9.0->-r uj_cv_course/requirements.txt (line 6)) (1.1.0)\n",
            "Requirement already satisfied: cycler>=0.10 in /usr/local/lib/python3.6/dist-packages (from matplotlib>=1.4.3->seaborn==0.9.0->-r uj_cv_course/requirements.txt (line 6)) (0.10.0)\n",
            "Requirement already satisfied: python-dateutil>=2.1 in /usr/local/lib/python3.6/dist-packages (from matplotlib>=1.4.3->seaborn==0.9.0->-r uj_cv_course/requirements.txt (line 6)) (2.6.1)\n",
            "Requirement already satisfied: pyparsing!=2.0.4,!=2.1.2,!=2.1.6,>=2.0.1 in /usr/local/lib/python3.6/dist-packages (from matplotlib>=1.4.3->seaborn==0.9.0->-r uj_cv_course/requirements.txt (line 6)) (2.4.6)\n",
            "Requirement already satisfied: pytz>=2017.2 in /usr/local/lib/python3.6/dist-packages (from pandas>=0.15.2->seaborn==0.9.0->-r uj_cv_course/requirements.txt (line 6)) (2018.9)\n",
            "Requirement already satisfied: setuptools in /usr/local/lib/python3.6/dist-packages (from kiwisolver>=1.0.1->matplotlib>=1.4.3->seaborn==0.9.0->-r uj_cv_course/requirements.txt (line 6)) (42.0.2)\n",
            "Building wheels for collected packages: efficientnet-pytorch\n",
            "  Building wheel for efficientnet-pytorch (setup.py) ... \u001b[?25l\u001b[?25hdone\n",
            "  Created wheel for efficientnet-pytorch: filename=efficientnet_pytorch-0.5.1-cp36-none-any.whl size=11768 sha256=6879f0b5211c18e8d768067f3c0138d13238a70c135f76fa2ab6b0d4a71dcaac\n",
            "  Stored in directory: /root/.cache/pip/wheels/52/0c/8e/58d91f29f0f8cbb45231a145312939a5423dc82c61cc731361\n",
            "Successfully built efficientnet-pytorch\n",
            "\u001b[31mERROR: torchvision 0.4.1 has requirement torch==1.3.0, but you'll have torch 1.3.1 which is incompatible.\u001b[0m\n",
            "\u001b[31mERROR: albumentations 0.1.12 has requirement imgaug<0.2.7,>=0.2.5, but you'll have imgaug 0.2.9 which is incompatible.\u001b[0m\n",
            "Installing collected packages: tqdm, Pillow, cached-property, scipy, scikit-learn, testpath, torchvision, efficientnet-pytorch\n",
            "  Found existing installation: tqdm 4.28.1\n",
            "    Uninstalling tqdm-4.28.1:\n",
            "      Successfully uninstalled tqdm-4.28.1\n",
            "  Found existing installation: Pillow 6.2.2\n",
            "    Uninstalling Pillow-6.2.2:\n",
            "      Successfully uninstalled Pillow-6.2.2\n",
            "  Found existing installation: scipy 1.4.1\n",
            "    Uninstalling scipy-1.4.1:\n",
            "      Successfully uninstalled scipy-1.4.1\n",
            "  Found existing installation: scikit-learn 0.22.1\n",
            "    Uninstalling scikit-learn-0.22.1:\n",
            "      Successfully uninstalled scikit-learn-0.22.1\n",
            "  Found existing installation: testpath 0.4.4\n",
            "    Uninstalling testpath-0.4.4:\n",
            "      Successfully uninstalled testpath-0.4.4\n",
            "  Found existing installation: torchvision 0.4.2\n",
            "    Uninstalling torchvision-0.4.2:\n",
            "      Successfully uninstalled torchvision-0.4.2\n",
            "Successfully installed Pillow-6.2.1 cached-property-1.5.1 efficientnet-pytorch-0.5.1 scikit-learn-0.21.3 scipy-1.3.1 testpath-0.4.2 torchvision-0.4.1 tqdm-4.36.1\n"
          ],
          "name": "stdout"
        }
      ]
    },
    {
      "cell_type": "code",
      "metadata": {
        "id": "Tp1nmdjpICan",
        "colab_type": "code",
        "colab": {}
      },
      "source": [
        "# this autoreloads the code\n",
        "%load_ext autoreload\n",
        "%autoreload 2"
      ],
      "execution_count": 0,
      "outputs": []
    },
    {
      "cell_type": "markdown",
      "metadata": {
        "id": "IaWKX0tVRWc_",
        "colab_type": "text"
      },
      "source": [
        "### Mount the google drive with data"
      ]
    },
    {
      "cell_type": "code",
      "metadata": {
        "id": "DS4lxQSmRVug",
        "colab_type": "code",
        "outputId": "1eeb2c32-0148-4de9-f8b1-337ab6b84c1c",
        "colab": {
          "base_uri": "https://localhost:8080/",
          "height": 161
        }
      },
      "source": [
        "from google.colab import drive\n",
        "from pathlib import Path\n",
        "mnt_path = \"/content/drive/\"\n",
        "drive.mount(mnt_path)\n",
        "# !ls /content/drive\n",
        "project_path = list(Path(mnt_path).glob(\"*/uj_cv_course/\"))[0]\n",
        "data_path = project_path / \"data_pickled\"\n",
        "# print(\"data is at\", data_path)\n",
        "# data_path = Path('/content/drive/My Drive/ANN/RO/Projekt/uj_cv_course/data_pickled')\n",
        "\n",
        "train_path = data_path / \"train_1_ids_no_transform.pkl\"\n",
        "test_path = data_path / \"test_1_ids_no_transform.pkl\"\n",
        "train_path, test_path"
      ],
      "execution_count": 0,
      "outputs": [
        {
          "output_type": "stream",
          "text": [
            "Go to this URL in a browser: https://accounts.google.com/o/oauth2/auth?client_id=947318989803-6bn6qk8qdgf4n4g3pfee6491hc0brc4i.apps.googleusercontent.com&redirect_uri=urn%3aietf%3awg%3aoauth%3a2.0%3aoob&response_type=code&scope=email%20https%3a%2f%2fwww.googleapis.com%2fauth%2fdocs.test%20https%3a%2f%2fwww.googleapis.com%2fauth%2fdrive%20https%3a%2f%2fwww.googleapis.com%2fauth%2fdrive.photos.readonly%20https%3a%2f%2fwww.googleapis.com%2fauth%2fpeopleapi.readonly\n",
            "\n",
            "Enter your authorization code:\n",
            "··········\n",
            "Mounted at /content/drive/\n"
          ],
          "name": "stdout"
        },
        {
          "output_type": "execute_result",
          "data": {
            "text/plain": [
              "(PosixPath('/content/drive/My Drive/uj_cv_course/data_pickled/train_1_ids_no_transform.pkl'),\n",
              " PosixPath('/content/drive/My Drive/uj_cv_course/data_pickled/test_1_ids_no_transform.pkl'))"
            ]
          },
          "metadata": {
            "tags": []
          },
          "execution_count": 2
        }
      ]
    },
    {
      "cell_type": "markdown",
      "metadata": {
        "id": "pWCazWsjTxxK",
        "colab_type": "text"
      },
      "source": [
        "## Experiments start here\n",
        "\n"
      ]
    },
    {
      "cell_type": "code",
      "metadata": {
        "id": "7cThorpKUrta",
        "colab_type": "code",
        "outputId": "6aa959ba-bfd8-430f-fb96-3656b201fc9a",
        "colab": {
          "base_uri": "https://localhost:8080/",
          "height": 34
        }
      },
      "source": [
        "%cd '/content/uj_cv_course'\n",
        "import torch\n",
        "from project.utils.ds.dataset import BoxedExamplesDataset, transform_chain, LazyMaskedExamplesDataset\n",
        "from project.utils.ds import transforms as tr\n",
        "from project.utils.ds.images import is_grayscale\n",
        "import numpy as np\n",
        "from torchvision.transforms import Compose\n",
        "from project.utils.ds.dataset import transform_chain\n",
        "import numpy as np\n",
        "from torchvision import transforms as trtv\n",
        "import matplotlib.pyplot as plt\n",
        "import json"
      ],
      "execution_count": 0,
      "outputs": [
        {
          "output_type": "stream",
          "text": [
            "/content/uj_cv_course\n"
          ],
          "name": "stdout"
        }
      ]
    },
    {
      "cell_type": "markdown",
      "metadata": {
        "id": "FKUZsK99UoWX",
        "colab_type": "text"
      },
      "source": [
        "### Load the datasets"
      ]
    },
    {
      "cell_type": "code",
      "metadata": {
        "id": "Wq3YdKledsHB",
        "colab_type": "code",
        "colab": {}
      },
      "source": [
        "def crop_to_exact_size(example, x_size, y_size, retries = 10):    \n",
        "  w, h = example.image.size\n",
        "  c_w = x_size / w\n",
        "  c_h = y_size / h\n",
        "  assert c_w <= 1\n",
        "  assert c_h <= 1\n",
        "\n",
        "  x_min = np.random.uniform(0, 1 - c_w)\n",
        "  y_min = np.random.uniform(0, 1 - c_h)\n",
        "\n",
        "  res = tr.crop(\n",
        "      example,\n",
        "      x_min,\n",
        "      y_min,\n",
        "      x_min + c_w,\n",
        "      y_min + c_h \n",
        "      \n",
        "  )\n",
        "  return res\n",
        "\n",
        "\n",
        "def normalize(ex):\n",
        "  i, l = ex\n",
        "  return trtv.Normalize([0.2, 0.2, 0.2], [0.5, 0.5, 0.5])(i), l"
      ],
      "execution_count": 0,
      "outputs": []
    },
    {
      "cell_type": "code",
      "metadata": {
        "id": "mavFVZgYXZld",
        "colab_type": "code",
        "colab": {}
      },
      "source": [
        "\n",
        "from project.utils.ds import transforms as tr\n",
        "from project.utils.ds import random_transforms as rnd\n",
        "\n",
        "transform_chain = [\n",
        "    tr.to_grayscale,\n",
        "    tr.flip_color_on_intensity_heuristic,\n",
        "    tr.max_pixel_to_255,\n",
        "    # rnd.random_transform(tr.rotate, rnd.rotate_90_sampler()),\n",
        "    # rnd.random_transform(tr.rotate, rnd.rotate_sampler(amplitude=10)),\n",
        "    tr.resize_to_min_300,\n",
        "    tr.to_rgb,\n",
        "    # rnd.random_transform(tr.crop, rnd.constant_crop_size_sampler(crop_size=256/300)),\n",
        "    lambda ex: crop_to_exact_size(ex, 300, 300),\n",
        "\n",
        "]"
      ],
      "execution_count": 0,
      "outputs": []
    },
    {
      "cell_type": "code",
      "metadata": {
        "id": "dpWswkLYVjOM",
        "colab_type": "code",
        "colab": {}
      },
      "source": [
        "def retransform(ex, transform, retries=None):\n",
        "  if retries is not None and retries < 0:\n",
        "    raise ValueError(ex.name)\n",
        "  ex_tran = transform(ex)\n",
        "  if len(ex_tran.boxes) == 0:\n",
        "    return retransform(ex, transform, retries-1 if retries is not None else None)\n",
        "  return ex_tran"
      ],
      "execution_count": 0,
      "outputs": []
    },
    {
      "cell_type": "code",
      "metadata": {
        "id": "04LcQSg5ShHu",
        "colab_type": "code",
        "outputId": "925a1108-7e87-491d-ed72-c07484c7815e",
        "colab": {
          "base_uri": "https://localhost:8080/",
          "height": 34
        }
      },
      "source": [
        "import pickle\n",
        "\n",
        "with train_path.open(\"rb\") as f:\n",
        "  ds = pickle.load(f)\n",
        "\n",
        "with test_path.open(\"rb\") as f:\n",
        "  ds_test = pickle.load(f)\n",
        "\n",
        "ds.examples = [ex for ex in ds.examples if not ex.name.startswith(\"7b38\")]\n",
        "\n",
        "len(ds), len(ds_test)"
      ],
      "execution_count": 0,
      "outputs": [
        {
          "output_type": "execute_result",
          "data": {
            "text/plain": [
              "(669, 65)"
            ]
          },
          "metadata": {
            "tags": []
          },
          "execution_count": 7
        }
      ]
    },
    {
      "cell_type": "code",
      "metadata": {
        "id": "lpzErOwLU9f3",
        "colab_type": "code",
        "outputId": "73c98df7-d5e2-4481-cc7b-b3e3859b94c3",
        "colab": {
          "base_uri": "https://localhost:8080/",
          "height": 34
        }
      },
      "source": [
        "any(\n",
        "    len(ex.boxes) == 0\n",
        "    for ex in ds\n",
        ")"
      ],
      "execution_count": 0,
      "outputs": [
        {
          "output_type": "execute_result",
          "data": {
            "text/plain": [
              "False"
            ]
          },
          "metadata": {
            "tags": []
          },
          "execution_count": 8
        }
      ]
    },
    {
      "cell_type": "markdown",
      "metadata": {
        "id": "rdiFUQKjYv3S",
        "colab_type": "text"
      },
      "source": [
        "#### Visualize some examples"
      ]
    },
    {
      "cell_type": "code",
      "metadata": {
        "id": "RW8wUbEAN09t",
        "colab_type": "code",
        "outputId": "b4986854-b082-4eb1-ebf5-7b46dfcb26d0",
        "colab": {
          "base_uri": "https://localhost:8080/",
          "height": 316
        }
      },
      "source": [
        "ex = ds.examples[1]\n",
        "\n",
        "ex = Compose(transform_chain)(ex)\n",
        "\n",
        "ex.vis_boxes()"
      ],
      "execution_count": 0,
      "outputs": [
        {
          "output_type": "execute_result",
          "data": {
            "image/png": "[encoded data removed]",
            "text/plain": [
              "<PIL.Image.Image image mode=RGB size=300x300 at 0x7FDE0ED37198>"
            ]
          },
          "metadata": {
            "tags": []
          },
          "execution_count": 9
        }
      ]
    },
    {
      "cell_type": "code",
      "metadata": {
        "id": "VUc2TbYe5zM_",
        "colab_type": "code",
        "colab": {}
      },
      "source": [
        "# evaluation utils\n",
        "def gather_metrics(\n",
        "    model, dl_train, dl_val, device, max_n_batches=5\n",
        "):\n",
        "\n",
        "  coco_train = tv_rcnn.coco_eval_metrics(evaluate(\n",
        "    model, dl_train, device\n",
        "  )\n",
        ")\n",
        "  coco_val = tv_rcnn.coco_eval_metrics(\n",
        "      evaluate(\n",
        "        model, dl_val, device\n",
        "      )\n",
        "  )\n",
        "\n",
        "\n",
        "  losses_train = tv_rcnn.evaluate_for_losses(\n",
        "      model, dl_train, device, max_n_batches=max_n_batches\n",
        "  )\n",
        "  losses_val = tv_rcnn.evaluate_for_losses(\n",
        "      model, dl_val, device, max_n_batches=max_n_batches\n",
        "  )\n",
        "\n",
        "  return dict(\n",
        "    train=dict(\n",
        "        **losses_train,\n",
        "        **coco_train\n",
        "    ),\n",
        "    val=dict(\n",
        "        **losses_val,\n",
        "        **coco_val\n",
        "    )\n",
        ")\n",
        "\n",
        "def plot_metrics_histories(\n",
        "    history, # List[Dict[str, float]],\n",
        "):\n",
        "  metric_names = history[0][\"train\"].keys()\n",
        "  print(list(metric_names))\n",
        "  fig, axes = plt.subplots(len(metric_names), figsize=(10, len(metric_names) * 10) )\n",
        "\n",
        "  epochs_inds = list(range(len(history)))\n",
        "\n",
        "  for i, metric_name in enumerate(metric_names):\n",
        "    ax = axes[i]\n",
        "\n",
        "    for fold in [\"train\", \"val\"]:\n",
        "      ax.plot(\n",
        "        epochs_inds, \n",
        "        [\n",
        "        h[fold][metric_name] for h in history\n",
        "        ],\n",
        "        label=fold\n",
        "      )\n",
        "      ax.set_title(metric_name)\n",
        "      ax.legend()\n",
        "  return fig\n",
        "\n",
        "def visualize_example_result(\n",
        "    example_original,\n",
        "    example_input, example_output,\n",
        "    epoch=None\n",
        "):\n",
        "\n",
        "  h, w = example_original.image.size\n",
        "  size = max(h, w)\n",
        "  thickness = int(size // 150)\n",
        "\n",
        "  fig, ax = plt.subplots(2, 2, figsize=(10,10))\n",
        "  ax[0,0].imshow(example_original.vis_boxes(thickness=thickness))\n",
        "  ax[0,0].set_title(f\"{example_original.id} {example_original.name[:10]} original\")\n",
        "\n",
        "  ax[1, 0].imshow(example_input.vis_boxes(thickness=thickness))\n",
        "  ax[1, 0].set_title(\"input to model with boxes \")\n",
        "\n",
        "  ax[0, 1].imshow(example_input.image)\n",
        "  ax[0, 1].set_title(\"input to model w/o boxes\")\n",
        "\n",
        "  ax[1, 1].imshow(example_output.vis_boxes(thickness=thickness))\n",
        "  ax[1,1].set_title(f\"epoch {epoch} model output\")\n",
        "  return fig"
      ],
      "execution_count": 0,
      "outputs": []
    },
    {
      "cell_type": "markdown",
      "metadata": {
        "id": "raSaeR47O8ns",
        "colab_type": "text"
      },
      "source": [
        "## Play with Faster-RCNN"
      ]
    },
    {
      "cell_type": "code",
      "metadata": {
        "id": "pKOF5jA-Oksw",
        "colab_type": "code",
        "outputId": "f389aead-1c75-4e7b-acb2-5c2a2a0c0513",
        "colab": {
          "base_uri": "https://localhost:8080/",
          "height": 34
        }
      },
      "source": [
        "%cd /content/uj_cv_course/\n",
        "from torchvision.models.detection import fasterrcnn_resnet50_fpn\n",
        "from project.utils.models import tv_rcnn\n",
        "from torch.optim import Adam\n",
        "from torch.utils.data import DataLoader\n",
        "\n",
        "from project.utils.tv_det_ref import utils\n",
        "from project.utils.tv_det_ref.engine import train_one_epoch, evaluate\n",
        "from project.utils.ds.dataset import BoxedExamplesDataset"
      ],
      "execution_count": 0,
      "outputs": [
        {
          "output_type": "stream",
          "text": [
            "/content/uj_cv_course\n"
          ],
          "name": "stdout"
        }
      ]
    },
    {
      "cell_type": "code",
      "metadata": {
        "id": "YZRqD_b_UfQU",
        "colab_type": "code",
        "outputId": "24143753-016c-4429-e8ce-915a0b5f7de2",
        "colab": {
          "base_uri": "https://localhost:8080/",
          "height": 34
        }
      },
      "source": [
        "example_transform = lambda ex: retransform(ex, Compose(transform_chain), None)\n",
        "to_model = Compose([\n",
        "  tv_rcnn.to_model_input,\n",
        "  normalize,\n",
        "])\n",
        "\n",
        "\n",
        "total_transform = Compose([\n",
        "  example_transform,\n",
        "  to_model\n",
        "])\n",
        "\n",
        "\n",
        "ds_train = BoxedExamplesDataset(\n",
        "    ds.examples[:600],\n",
        "    total_transform\n",
        ")\n",
        "ds_val = BoxedExamplesDataset(\n",
        "    ds.examples[600:],\n",
        "    total_transform\n",
        ")\n",
        "\n",
        "\n",
        "dl_train, dl_val = [torch.utils.data.DataLoader(\n",
        "        ds_, batch_size=4, shuffle=True, #batch_sampler=torch.utils.data.BatchSampler(torch.utils.data.RandomSampler(ds_), 16),\n",
        "        collate_fn=utils.collate_fn\n",
        ")\n",
        "for ds_ in [ds_train, ds_val]\n",
        "]\n",
        "\n",
        "\n",
        "len(ds_train), len(ds_val), len(ds)"
      ],
      "execution_count": 0,
      "outputs": [
        {
          "output_type": "execute_result",
          "data": {
            "text/plain": [
              "(600, 69, 669)"
            ]
          },
          "metadata": {
            "tags": []
          },
          "execution_count": 12
        }
      ]
    },
    {
      "cell_type": "code",
      "metadata": {
        "id": "sZKO9cV3GG1j",
        "colab_type": "code",
        "colab": {}
      },
      "source": [
        "val_inds = [int(l[\"image_id\"].item()) for (i, l) in ds_val]\n",
        "\n",
        "ds_val_unaugmented = BoxedExamplesDataset(\n",
        "    [ex for ex in ds.examples if ex.id in val_inds],\n",
        "    trtv.Compose([\n",
        "      tr.to_grayscale,\n",
        "      tr.flip_color_on_intensity_heuristic,\n",
        "      tr.max_pixel_to_255,\n",
        "      tr.to_rgb,\n",
        "      tv_rcnn.to_model_input\n",
        "  ])\n",
        ")\n",
        "dl_val_unaugmented = torch.utils.data.DataLoader(\n",
        "        ds_val_unaugmented, batch_size=1,\n",
        "        collate_fn=utils.collate_fn\n",
        ")"
      ],
      "execution_count": 0,
      "outputs": []
    },
    {
      "cell_type": "code",
      "metadata": {
        "id": "TCqy9lAPVgBy",
        "colab_type": "code",
        "outputId": "df5aa888-4e28-45b4-9535-361863d34f6e",
        "colab": {
          "base_uri": "https://localhost:8080/",
          "height": 141
        }
      },
      "source": [
        "from torchvision.models.detection.rpn import AnchorGenerator\n",
        "from project.utils.models.efficientnet import faster_rcnn_efficientnet_fpn\n",
        "\n",
        "anchors = AnchorGenerator(\n",
        "    sizes=(8, 16, 32, 64, 128, 256)\n",
        ")\n",
        "\n",
        "# model = fasterrcnn_resnet50_fpn(\n",
        "#     pretrained=False, \n",
        "#     num_classes=2, #możliwe że wystarczy jedna klasa (zależy od implementacji fpn - w retinie automatycznie dodawano klasę null) #nope, nie wystarczy\n",
        "#     pretrained_backbone=True,\n",
        "#     rpn_anchor_generator=anchors\n",
        "#   )\n",
        "\n",
        "model = faster_rcnn_efficientnet_fpn(\n",
        "    \"efficientnet-b3\",\n",
        "    rpn_anchor_generator=anchors\n",
        ")\n",
        "opt = Adam(model.parameters(), lr=4e-6, )\n",
        "device = torch.device(\"cuda:0\" if torch.cuda.is_available() else \"cpu\")\n",
        "device"
      ],
      "execution_count": 0,
      "outputs": [
        {
          "output_type": "stream",
          "text": [
            "Downloading: \"http://storage.googleapis.com/public-models/efficientnet/efficientnet-b7-dcc49843.pth\" to /root/.cache/torch/checkpoints/efficientnet-b7-dcc49843.pth\n",
            "100%|██████████| 254M/254M [00:03<00:00, 77.8MB/s]\n"
          ],
          "name": "stderr"
        },
        {
          "output_type": "stream",
          "text": [
            "Loaded pretrained weights for efficientnet-b7\n"
          ],
          "name": "stdout"
        },
        {
          "output_type": "stream",
          "text": [
            "Downloading: \"http://storage.googleapis.com/public-models/efficientnet/efficientnet-b3-5fb5a3c3.pth\" to /root/.cache/torch/checkpoints/efficientnet-b3-5fb5a3c3.pth\n",
            "100%|██████████| 47.1M/47.1M [00:00<00:00, 104MB/s] \n"
          ],
          "name": "stderr"
        },
        {
          "output_type": "stream",
          "text": [
            "Loaded pretrained weights for efficientnet-b3\n"
          ],
          "name": "stdout"
        },
        {
          "output_type": "execute_result",
          "data": {
            "text/plain": [
              "device(type='cuda', index=0)"
            ]
          },
          "metadata": {
            "tags": []
          },
          "execution_count": 14
        }
      ]
    },
    {
      "cell_type": "code",
      "metadata": {
        "id": "3R0DPqMTxl1W",
        "colab_type": "code",
        "colab": {}
      },
      "source": [
        "n_epochs = 100\n",
        "model = model.to(device)"
      ],
      "execution_count": 0,
      "outputs": []
    },
    {
      "cell_type": "code",
      "metadata": {
        "id": "nSpNhlhiTu5F",
        "colab_type": "code",
        "outputId": "5969e89c-65b0-4e85-bbad-82bb70908efd",
        "colab": {
          "base_uri": "https://localhost:8080/",
          "height": 1000
        }
      },
      "source": [
        "experiment_path = project_path / \"experiments\" / \"vis_history\" / \"faster_rcnn_efficientnet_b3\"\n",
        "experiment_path.mkdir(exist_ok=True, parents=True)\n",
        "\n",
        "renders_path = experiment_path / \"renders\"\n",
        "renders_path.mkdir(exist_ok=True, parents=True)\n",
        "\n",
        "latest_state_path = experiment_path / \"latest_state.pth\"\n",
        "\n",
        "if latest_state_path.exists():\n",
        "  checkpoint = torch.load(latest_state_path)\n",
        "  epoch = checkpoint[\"epoch\"]\n",
        "  hist = checkpoint[\"loss_history\"]\n",
        "  model.load_state_dict(checkpoint['model_state_dict'])\n",
        "  opt.load_state_dict(checkpoint['optimizer_state_dict'])\n",
        "  print(f\"loading model from epoch {epoch}\")\n",
        "\n",
        "else:\n",
        "  print(\"starting training from scratch\")\n",
        "  epoch = 0\n",
        "  hist = [\n",
        "    gather_metrics(model, dl_train, dl_val, device)\n",
        "  ]\n",
        "\n",
        "\n",
        "predictions = tv_rcnn.model_predictions_from_loader(\n",
        "    model, dl_val_unaugmented, device, max_n_batches=4, normalization_transform=trtv.Normalize([0.2, 0.2, 0.2], [0.5, 0.5, 0.5])\n",
        "    )\n",
        "for (\n",
        "  ei, eou\n",
        ") in predictions:\n",
        "  eor = [e for e in ds.examples if e.id == ei.id][0]\n",
        "  fig = visualize_example_result(eor, ei, eou, epoch=epoch)\n",
        "  fig.savefig(renders_path / f\"{epoch}_{ei.id}_{ei.name}.png\")\n",
        "\n",
        "for e in range(epoch, n_epochs):\n",
        "  model.train()\n",
        "  train_one_epoch(\n",
        "      model=model,\n",
        "      optimizer=opt,\n",
        "      data_loader=dl_train,\n",
        "      device=device,\n",
        "      epoch=e,\n",
        "      print_freq=25\n",
        "  )\n",
        "\n",
        "  model.eval()\n",
        "  metrics_dict = gather_metrics(model, dl_train, dl_val, device)\n",
        "  hist.append(metrics_dict)\n",
        "\n",
        "  predictions = tv_rcnn.model_predictions_from_loader(\n",
        "      model, dl_val_unaugmented, device, max_n_batches=8, normalization_transform=trtv.Normalize([0.2, 0.2, 0.2], [0.5, 0.5, 0.5])\n",
        "      )\n",
        "  for (\n",
        "    ei, eou\n",
        "  ) in predictions:\n",
        "    eor = [e for e in ds.examples if e.id == ei.id][0]\n",
        "    fig = visualize_example_result(eor, ei, eou, epoch=e+1 )\n",
        "    fig.savefig(renders_path / f\"{e+1}_{ei.id}_{eor.name}.png\")\n",
        "\n",
        "  torch.save({\n",
        "            \"epoch\": e,\n",
        "            \"model_state_dict\": model.state_dict(),\n",
        "            \"optimizer_state_dict\": opt.state_dict(),\n",
        "            \"loss_history\": hist\n",
        "            }, \n",
        "    experiment_path / \"latest_state.pth\"\n",
        "  )\n",
        "\n",
        "  fig = plot_metrics_histories(hist)\n",
        "  fig.savefig(experiment_path / \"metrics.png\")\n",
        "  \n",
        "fig.show()"
      ],
      "execution_count": 0,
      "outputs": [
        {
          "output_type": "stream",
          "text": [
            "loading model from epoch 66\n",
            "Epoch: [66]  [  0/150]  eta: 0:03:13  lr: 0.000004  loss: 0.5028 (0.5028)  loss_classifier: 0.1616 (0.1616)  loss_box_reg: 0.1320 (0.1320)  loss_objectness: 0.0416 (0.0416)  loss_rpn_box_reg: 0.1675 (0.1675)  time: 1.2882  data: 0.0349  max mem: 10731\n",
            "Epoch: [66]  [ 25/150]  eta: 0:01:35  lr: 0.000004  loss: 0.2501 (0.2901)  loss_classifier: 0.0971 (0.1102)  loss_box_reg: 0.0925 (0.0960)  loss_objectness: 0.0181 (0.0221)  loss_rpn_box_reg: 0.0402 (0.0617)  time: 0.7392  data: 0.0596  max mem: 10771\n",
            "Epoch: [66]  [ 50/150]  eta: 0:01:14  lr: 0.000004  loss: 0.2814 (0.3061)  loss_classifier: 0.1156 (0.1187)  loss_box_reg: 0.1008 (0.1015)  loss_objectness: 0.0237 (0.0243)  loss_rpn_box_reg: 0.0526 (0.0616)  time: 0.7250  data: 0.0450  max mem: 10854\n",
            "Epoch: [66]  [ 75/150]  eta: 0:00:55  lr: 0.000004  loss: 0.3017 (0.3044)  loss_classifier: 0.1192 (0.1199)  loss_box_reg: 0.0994 (0.1015)  loss_objectness: 0.0208 (0.0241)  loss_rpn_box_reg: 0.0404 (0.0589)  time: 0.7278  data: 0.0468  max mem: 10854\n",
            "Epoch: [66]  [100/150]  eta: 0:00:36  lr: 0.000004  loss: 0.3042 (0.3034)  loss_classifier: 0.1172 (0.1203)  loss_box_reg: 0.1006 (0.1007)  loss_objectness: 0.0231 (0.0239)  loss_rpn_box_reg: 0.0485 (0.0586)  time: 0.7243  data: 0.0445  max mem: 10854\n",
            "Epoch: [66]  [125/150]  eta: 0:00:18  lr: 0.000004  loss: 0.2775 (0.2999)  loss_classifier: 0.1136 (0.1193)  loss_box_reg: 0.0954 (0.1002)  loss_objectness: 0.0222 (0.0237)  loss_rpn_box_reg: 0.0459 (0.0567)  time: 0.7470  data: 0.0676  max mem: 10854\n",
            "Epoch: [66]  [149/150]  eta: 0:00:00  lr: 0.000004  loss: 0.3116 (0.3035)  loss_classifier: 0.1230 (0.1204)  loss_box_reg: 0.1075 (0.1018)  loss_objectness: 0.0195 (0.0237)  loss_rpn_box_reg: 0.0468 (0.0576)  time: 0.7265  data: 0.0430  max mem: 10854\n",
            "Epoch: [66] Total time: 0:01:50 (0.7367 s / it)\n",
            "creating index...\n",
            "index created!\n",
            "Test:  [  0/150]  eta: 0:00:50  model_time: 0.2128 (0.2128)  evaluator_time: 0.0717 (0.0717)  time: 0.3395  data: 0.0527  max mem: 10854\n",
            "Test:  [100/150]  eta: 0:00:22  model_time: 0.1950 (0.1956)  evaluator_time: 0.1680 (0.1932)  time: 0.4610  data: 0.0515  max mem: 10854\n",
            "Test:  [149/150]  eta: 0:00:00  model_time: 0.1948 (0.1956)  evaluator_time: 0.1661 (0.1899)  time: 0.4035  data: 0.0485  max mem: 10854\n",
            "Test: Total time: 0:01:05 (0.4366 s / it)\n",
            "Averaged stats: model_time: 0.1948 (0.1956)  evaluator_time: 0.1661 (0.1899)\n",
            "Accumulating evaluation results...\n",
            "DONE (t=0.31s).\n",
            "IoU metric: bbox\n",
            " Average Precision  (AP) @[ IoU=0.50:0.95 | area=   all | maxDets=100 ] = 0.198\n",
            " Average Precision  (AP) @[ IoU=0.50      | area=   all | maxDets=100 ] = 0.327\n",
            " Average Precision  (AP) @[ IoU=0.75      | area=   all | maxDets=100 ] = 0.207\n",
            " Average Precision  (AP) @[ IoU=0.50:0.95 | area= small | maxDets=100 ] = 0.258\n",
            " Average Precision  (AP) @[ IoU=0.50:0.95 | area=medium | maxDets=100 ] = 0.025\n",
            " Average Precision  (AP) @[ IoU=0.50:0.95 | area= large | maxDets=100 ] = 0.106\n",
            " Average Recall     (AR) @[ IoU=0.50:0.95 | area=   all | maxDets=  1 ] = 0.016\n",
            " Average Recall     (AR) @[ IoU=0.50:0.95 | area=   all | maxDets= 10 ] = 0.141\n",
            " Average Recall     (AR) @[ IoU=0.50:0.95 | area=   all | maxDets=100 ] = 0.365\n",
            " Average Recall     (AR) @[ IoU=0.50:0.95 | area= small | maxDets=100 ] = 0.402\n",
            " Average Recall     (AR) @[ IoU=0.50:0.95 | area=medium | maxDets=100 ] = 0.135\n",
            " Average Recall     (AR) @[ IoU=0.50:0.95 | area= large | maxDets=100 ] = 0.100\n",
            "creating index...\n",
            "index created!\n",
            "Test:  [ 0/18]  eta: 0:00:08  model_time: 0.1949 (0.1949)  evaluator_time: 0.2317 (0.2317)  time: 0.4541  data: 0.0257  max mem: 10854\n"
          ],
          "name": "stdout"
        },
        {
          "output_type": "stream",
          "text": [
            "\r  0%|          | 0/150 [00:00<?, ?it/s]"
          ],
          "name": "stderr"
        },
        {
          "output_type": "stream",
          "text": [
            "Test:  [17/18]  eta: 0:00:00  model_time: 0.1948 (0.1877)  evaluator_time: 0.1543 (0.1880)  time: 0.4277  data: 0.0501  max mem: 10854\n",
            "Test: Total time: 0:00:07 (0.4277 s / it)\n",
            "Averaged stats: model_time: 0.1948 (0.1877)  evaluator_time: 0.1543 (0.1880)\n",
            "Accumulating evaluation results...\n",
            "DONE (t=0.03s).\n",
            "IoU metric: bbox\n",
            " Average Precision  (AP) @[ IoU=0.50:0.95 | area=   all | maxDets=100 ] = 0.300\n",
            " Average Precision  (AP) @[ IoU=0.50      | area=   all | maxDets=100 ] = 0.515\n",
            " Average Precision  (AP) @[ IoU=0.75      | area=   all | maxDets=100 ] = 0.312\n",
            " Average Precision  (AP) @[ IoU=0.50:0.95 | area= small | maxDets=100 ] = 0.360\n",
            " Average Precision  (AP) @[ IoU=0.50:0.95 | area=medium | maxDets=100 ] = 0.049\n",
            " Average Precision  (AP) @[ IoU=0.50:0.95 | area= large | maxDets=100 ] = 0.000\n",
            " Average Recall     (AR) @[ IoU=0.50:0.95 | area=   all | maxDets=  1 ] = 0.020\n",
            " Average Recall     (AR) @[ IoU=0.50:0.95 | area=   all | maxDets= 10 ] = 0.168\n",
            " Average Recall     (AR) @[ IoU=0.50:0.95 | area=   all | maxDets=100 ] = 0.430\n",
            " Average Recall     (AR) @[ IoU=0.50:0.95 | area= small | maxDets=100 ] = 0.457\n",
            " Average Recall     (AR) @[ IoU=0.50:0.95 | area=medium | maxDets=100 ] = 0.190\n",
            " Average Recall     (AR) @[ IoU=0.50:0.95 | area= large | maxDets=100 ] = 0.000\n"
          ],
          "name": "stdout"
        },
        {
          "output_type": "stream",
          "text": [
            "  3%|▎         | 5/150 [00:01<00:44,  3.24it/s]\n",
            " 28%|██▊       | 5/18 [00:01<00:04,  3.19it/s]\n"
          ],
          "name": "stderr"
        },
        {
          "output_type": "stream",
          "text": [
            "['loss_classifier', 'loss_box_reg', 'loss_objectness', 'loss_rpn_box_reg', 'Average Precision  (AP) @[ IoU=0.50:0.95 | area=   all | maxDets=100 ]', 'Average Precision  (AP) @[ IoU=0.50      | area=   all | maxDets=100 ]', 'Average Precision  (AP) @[ IoU=0.75      | area=   all | maxDets=100 ]', 'Average Precision  (AP) @[ IoU=0.50:0.95 | area= small | maxDets=100 ]', 'Average Precision  (AP) @[ IoU=0.50:0.95 | area=medium | maxDets=100 ]', 'Average Precision  (AP) @[ IoU=0.50:0.95 | area= large | maxDets=100 ]', 'Average Recall     (AR) @[ IoU=0.50:0.95 | area=   all | maxDets=  1 ]', 'Average Recall     (AR) @[ IoU=0.50:0.95 | area=   all | maxDets= 10 ]', 'Average Recall     (AR) @[ IoU=0.50:0.95 | area=   all | maxDets=100 ]', 'Average Recall     (AR) @[ IoU=0.50:0.95 | area= small | maxDets=100 ]', 'Average Recall     (AR) @[ IoU=0.50:0.95 | area=medium | maxDets=100 ]', 'Average Recall     (AR) @[ IoU=0.50:0.95 | area= large | maxDets=100 ] ']\n",
            "Epoch: [67]  [  0/150]  eta: 0:01:49  lr: 0.000004  loss: 0.2958 (0.2958)  loss_classifier: 0.1144 (0.1144)  loss_box_reg: 0.0938 (0.0938)  loss_objectness: 0.0329 (0.0329)  loss_rpn_box_reg: 0.0548 (0.0548)  time: 0.7318  data: 0.0320  max mem: 10854\n",
            "Epoch: [67]  [ 25/150]  eta: 0:01:31  lr: 0.000004  loss: 0.2894 (0.3121)  loss_classifier: 0.1159 (0.1227)  loss_box_reg: 0.0982 (0.1034)  loss_objectness: 0.0213 (0.0255)  loss_rpn_box_reg: 0.0575 (0.0606)  time: 0.7337  data: 0.0502  max mem: 10854\n",
            "Epoch: [67]  [ 50/150]  eta: 0:01:12  lr: 0.000004  loss: 0.2565 (0.2984)  loss_classifier: 0.1056 (0.1173)  loss_box_reg: 0.0864 (0.0995)  loss_objectness: 0.0211 (0.0239)  loss_rpn_box_reg: 0.0433 (0.0578)  time: 0.7291  data: 0.0498  max mem: 10854\n",
            "Epoch: [67]  [ 75/150]  eta: 0:00:54  lr: 0.000004  loss: 0.2671 (0.2968)  loss_classifier: 0.0982 (0.1166)  loss_box_reg: 0.0890 (0.1004)  loss_objectness: 0.0220 (0.0232)  loss_rpn_box_reg: 0.0529 (0.0566)  time: 0.7305  data: 0.0488  max mem: 10933\n",
            "Epoch: [67]  [100/150]  eta: 0:00:36  lr: 0.000004  loss: 0.3023 (0.3006)  loss_classifier: 0.1232 (0.1185)  loss_box_reg: 0.1064 (0.1016)  loss_objectness: 0.0242 (0.0243)  loss_rpn_box_reg: 0.0460 (0.0562)  time: 0.7248  data: 0.0421  max mem: 11308\n",
            "Epoch: [67]  [125/150]  eta: 0:00:18  lr: 0.000004  loss: 0.3207 (0.3020)  loss_classifier: 0.1257 (0.1192)  loss_box_reg: 0.1050 (0.1021)  loss_objectness: 0.0213 (0.0238)  loss_rpn_box_reg: 0.0484 (0.0569)  time: 0.7285  data: 0.0460  max mem: 11308\n",
            "Epoch: [67]  [149/150]  eta: 0:00:00  lr: 0.000004  loss: 0.3027 (0.3060)  loss_classifier: 0.1199 (0.1212)  loss_box_reg: 0.1077 (0.1035)  loss_objectness: 0.0218 (0.0239)  loss_rpn_box_reg: 0.0540 (0.0574)  time: 0.7311  data: 0.0507  max mem: 11308\n",
            "Epoch: [67] Total time: 0:01:49 (0.7297 s / it)\n",
            "creating index...\n",
            "index created!\n",
            "Test:  [  0/150]  eta: 0:00:54  model_time: 0.2092 (0.2092)  evaluator_time: 0.0899 (0.0899)  time: 0.3609  data: 0.0599  max mem: 11308\n",
            "Test:  [100/150]  eta: 0:00:22  model_time: 0.1946 (0.1955)  evaluator_time: 0.1436 (0.1941)  time: 0.4110  data: 0.0372  max mem: 11308\n",
            "Test:  [149/150]  eta: 0:00:00  model_time: 0.1947 (0.1955)  evaluator_time: 0.1207 (0.1911)  time: 0.4128  data: 0.0460  max mem: 11308\n",
            "Test: Total time: 0:01:05 (0.4376 s / it)\n",
            "Averaged stats: model_time: 0.1947 (0.1955)  evaluator_time: 0.1207 (0.1911)\n",
            "Accumulating evaluation results...\n",
            "DONE (t=0.31s).\n",
            "IoU metric: bbox\n",
            " Average Precision  (AP) @[ IoU=0.50:0.95 | area=   all | maxDets=100 ] = 0.196\n",
            " Average Precision  (AP) @[ IoU=0.50      | area=   all | maxDets=100 ] = 0.325\n",
            " Average Precision  (AP) @[ IoU=0.75      | area=   all | maxDets=100 ] = 0.207\n",
            " Average Precision  (AP) @[ IoU=0.50:0.95 | area= small | maxDets=100 ] = 0.257\n",
            " Average Precision  (AP) @[ IoU=0.50:0.95 | area=medium | maxDets=100 ] = 0.025\n",
            " Average Precision  (AP) @[ IoU=0.50:0.95 | area= large | maxDets=100 ] = 0.106\n",
            " Average Recall     (AR) @[ IoU=0.50:0.95 | area=   all | maxDets=  1 ] = 0.016\n",
            " Average Recall     (AR) @[ IoU=0.50:0.95 | area=   all | maxDets= 10 ] = 0.143\n",
            " Average Recall     (AR) @[ IoU=0.50:0.95 | area=   all | maxDets=100 ] = 0.373\n",
            " Average Recall     (AR) @[ IoU=0.50:0.95 | area= small | maxDets=100 ] = 0.413\n",
            " Average Recall     (AR) @[ IoU=0.50:0.95 | area=medium | maxDets=100 ] = 0.129\n",
            " Average Recall     (AR) @[ IoU=0.50:0.95 | area= large | maxDets=100 ] = 0.144\n",
            "creating index...\n",
            "index created!\n",
            "Test:  [ 0/18]  eta: 0:00:06  model_time: 0.1943 (0.1943)  evaluator_time: 0.1196 (0.1196)  time: 0.3587  data: 0.0426  max mem: 11308\n"
          ],
          "name": "stdout"
        },
        {
          "output_type": "stream",
          "text": [
            "\r  0%|          | 0/150 [00:00<?, ?it/s]"
          ],
          "name": "stderr"
        },
        {
          "output_type": "stream",
          "text": [
            "Test:  [17/18]  eta: 0:00:00  model_time: 0.1945 (0.1874)  evaluator_time: 0.1841 (0.1771)  time: 0.4064  data: 0.0400  max mem: 11308\n",
            "Test: Total time: 0:00:07 (0.4065 s / it)\n",
            "Averaged stats: model_time: 0.1945 (0.1874)  evaluator_time: 0.1841 (0.1771)\n",
            "Accumulating evaluation results...\n",
            "DONE (t=0.03s).\n",
            "IoU metric: bbox\n",
            " Average Precision  (AP) @[ IoU=0.50:0.95 | area=   all | maxDets=100 ] = 0.283\n",
            " Average Precision  (AP) @[ IoU=0.50      | area=   all | maxDets=100 ] = 0.481\n",
            " Average Precision  (AP) @[ IoU=0.75      | area=   all | maxDets=100 ] = 0.299\n",
            " Average Precision  (AP) @[ IoU=0.50:0.95 | area= small | maxDets=100 ] = 0.350\n",
            " Average Precision  (AP) @[ IoU=0.50:0.95 | area=medium | maxDets=100 ] = 0.022\n",
            " Average Precision  (AP) @[ IoU=0.50:0.95 | area= large | maxDets=100 ] = 0.000\n",
            " Average Recall     (AR) @[ IoU=0.50:0.95 | area=   all | maxDets=  1 ] = 0.019\n",
            " Average Recall     (AR) @[ IoU=0.50:0.95 | area=   all | maxDets= 10 ] = 0.164\n",
            " Average Recall     (AR) @[ IoU=0.50:0.95 | area=   all | maxDets=100 ] = 0.429\n",
            " Average Recall     (AR) @[ IoU=0.50:0.95 | area= small | maxDets=100 ] = 0.465\n",
            " Average Recall     (AR) @[ IoU=0.50:0.95 | area=medium | maxDets=100 ] = 0.120\n",
            " Average Recall     (AR) @[ IoU=0.50:0.95 | area= large | maxDets=100 ] = 0.000\n"
          ],
          "name": "stdout"
        },
        {
          "output_type": "stream",
          "text": [
            "  3%|▎         | 5/150 [00:01<00:48,  2.97it/s]\n",
            " 28%|██▊       | 5/18 [00:01<00:04,  3.22it/s]\n",
            "/usr/local/lib/python3.6/dist-packages/ipykernel_launcher.py:68: RuntimeWarning: More than 20 figures have been opened. Figures created through the pyplot interface (`matplotlib.pyplot.figure`) are retained until explicitly closed and may consume too much memory. (To control this warning, see the rcParam `figure.max_open_warning`).\n"
          ],
          "name": "stderr"
        },
        {
          "output_type": "stream",
          "text": [
            "['loss_classifier', 'loss_box_reg', 'loss_objectness', 'loss_rpn_box_reg', 'Average Precision  (AP) @[ IoU=0.50:0.95 | area=   all | maxDets=100 ]', 'Average Precision  (AP) @[ IoU=0.50      | area=   all | maxDets=100 ]', 'Average Precision  (AP) @[ IoU=0.75      | area=   all | maxDets=100 ]', 'Average Precision  (AP) @[ IoU=0.50:0.95 | area= small | maxDets=100 ]', 'Average Precision  (AP) @[ IoU=0.50:0.95 | area=medium | maxDets=100 ]', 'Average Precision  (AP) @[ IoU=0.50:0.95 | area= large | maxDets=100 ]', 'Average Recall     (AR) @[ IoU=0.50:0.95 | area=   all | maxDets=  1 ]', 'Average Recall     (AR) @[ IoU=0.50:0.95 | area=   all | maxDets= 10 ]', 'Average Recall     (AR) @[ IoU=0.50:0.95 | area=   all | maxDets=100 ]', 'Average Recall     (AR) @[ IoU=0.50:0.95 | area= small | maxDets=100 ]', 'Average Recall     (AR) @[ IoU=0.50:0.95 | area=medium | maxDets=100 ]', 'Average Recall     (AR) @[ IoU=0.50:0.95 | area= large | maxDets=100 ] ']\n"
          ],
          "name": "stdout"
        },
        {
          "output_type": "stream",
          "text": [
            "/usr/local/lib/python3.6/dist-packages/ipykernel_launcher.py:39: RuntimeWarning: More than 20 figures have been opened. Figures created through the pyplot interface (`matplotlib.pyplot.figure`) are retained until explicitly closed and may consume too much memory. (To control this warning, see the rcParam `figure.max_open_warning`).\n"
          ],
          "name": "stderr"
        },
        {
          "output_type": "stream",
          "text": [
            "Epoch: [68]  [  0/150]  eta: 0:01:50  lr: 0.000004  loss: 0.2270 (0.2270)  loss_classifier: 0.0963 (0.0963)  loss_box_reg: 0.0726 (0.0726)  loss_objectness: 0.0187 (0.0187)  loss_rpn_box_reg: 0.0393 (0.0393)  time: 0.7398  data: 0.0431  max mem: 11308\n",
            "Epoch: [68]  [ 25/150]  eta: 0:01:30  lr: 0.000004  loss: 0.2533 (0.2640)  loss_classifier: 0.0995 (0.1038)  loss_box_reg: 0.0790 (0.0893)  loss_objectness: 0.0196 (0.0202)  loss_rpn_box_reg: 0.0514 (0.0507)  time: 0.7289  data: 0.0458  max mem: 11308\n",
            "Epoch: [68]  [ 50/150]  eta: 0:01:12  lr: 0.000004  loss: 0.2749 (0.2840)  loss_classifier: 0.1061 (0.1127)  loss_box_reg: 0.1048 (0.0975)  loss_objectness: 0.0191 (0.0219)  loss_rpn_box_reg: 0.0465 (0.0519)  time: 0.7282  data: 0.0475  max mem: 11308\n",
            "Epoch: [68]  [ 75/150]  eta: 0:00:54  lr: 0.000004  loss: 0.3298 (0.2967)  loss_classifier: 0.1271 (0.1191)  loss_box_reg: 0.1092 (0.1007)  loss_objectness: 0.0230 (0.0233)  loss_rpn_box_reg: 0.0527 (0.0537)  time: 0.7235  data: 0.0441  max mem: 11308\n",
            "Epoch: [68]  [100/150]  eta: 0:00:36  lr: 0.000004  loss: 0.2928 (0.2952)  loss_classifier: 0.1211 (0.1185)  loss_box_reg: 0.0988 (0.1010)  loss_objectness: 0.0207 (0.0228)  loss_rpn_box_reg: 0.0409 (0.0528)  time: 0.7338  data: 0.0536  max mem: 11308\n",
            "Epoch: [68]  [125/150]  eta: 0:00:18  lr: 0.000004  loss: 0.2578 (0.2965)  loss_classifier: 0.1063 (0.1178)  loss_box_reg: 0.0890 (0.1005)  loss_objectness: 0.0191 (0.0228)  loss_rpn_box_reg: 0.0534 (0.0554)  time: 0.7404  data: 0.0596  max mem: 11308\n",
            "Epoch: [68]  [149/150]  eta: 0:00:00  lr: 0.000004  loss: 0.3131 (0.3025)  loss_classifier: 0.1252 (0.1202)  loss_box_reg: 0.1136 (0.1018)  loss_objectness: 0.0242 (0.0234)  loss_rpn_box_reg: 0.0534 (0.0571)  time: 0.7355  data: 0.0547  max mem: 11308\n",
            "Epoch: [68] Total time: 0:01:49 (0.7332 s / it)\n",
            "creating index...\n",
            "index created!\n",
            "Test:  [  0/150]  eta: 0:01:23  model_time: 0.2092 (0.2092)  evaluator_time: 0.2554 (0.2554)  time: 0.5538  data: 0.0871  max mem: 11308\n",
            "Test:  [100/150]  eta: 0:00:22  model_time: 0.1949 (0.1960)  evaluator_time: 0.1198 (0.2055)  time: 0.3909  data: 0.0479  max mem: 11308\n",
            "Test:  [149/150]  eta: 0:00:00  model_time: 0.1954 (0.1959)  evaluator_time: 0.1622 (0.1960)  time: 0.4460  data: 0.0511  max mem: 11308\n",
            "Test: Total time: 0:01:06 (0.4450 s / it)\n",
            "Averaged stats: model_time: 0.1954 (0.1959)  evaluator_time: 0.1622 (0.1960)\n",
            "Accumulating evaluation results...\n",
            "DONE (t=0.32s).\n",
            "IoU metric: bbox\n",
            " Average Precision  (AP) @[ IoU=0.50:0.95 | area=   all | maxDets=100 ] = 0.194\n",
            " Average Precision  (AP) @[ IoU=0.50      | area=   all | maxDets=100 ] = 0.326\n",
            " Average Precision  (AP) @[ IoU=0.75      | area=   all | maxDets=100 ] = 0.202\n",
            " Average Precision  (AP) @[ IoU=0.50:0.95 | area= small | maxDets=100 ] = 0.259\n",
            " Average Precision  (AP) @[ IoU=0.50:0.95 | area=medium | maxDets=100 ] = 0.024\n",
            " Average Precision  (AP) @[ IoU=0.50:0.95 | area= large | maxDets=100 ] = 0.139\n",
            " Average Recall     (AR) @[ IoU=0.50:0.95 | area=   all | maxDets=  1 ] = 0.016\n",
            " Average Recall     (AR) @[ IoU=0.50:0.95 | area=   all | maxDets= 10 ] = 0.143\n",
            " Average Recall     (AR) @[ IoU=0.50:0.95 | area=   all | maxDets=100 ] = 0.371\n",
            " Average Recall     (AR) @[ IoU=0.50:0.95 | area= small | maxDets=100 ] = 0.408\n",
            " Average Recall     (AR) @[ IoU=0.50:0.95 | area=medium | maxDets=100 ] = 0.134\n",
            " Average Recall     (AR) @[ IoU=0.50:0.95 | area= large | maxDets=100 ] = 0.145\n",
            "creating index...\n",
            "index created!\n",
            "Test:  [ 0/18]  eta: 0:00:07  model_time: 0.1956 (0.1956)  evaluator_time: 0.1915 (0.1915)  time: 0.4352  data: 0.0463  max mem: 11308\n"
          ],
          "name": "stdout"
        },
        {
          "output_type": "stream",
          "text": [
            "\r  0%|          | 0/150 [00:00<?, ?it/s]"
          ],
          "name": "stderr"
        },
        {
          "output_type": "stream",
          "text": [
            "Test:  [17/18]  eta: 0:00:00  model_time: 0.1955 (0.1881)  evaluator_time: 0.2064 (0.1968)  time: 0.4280  data: 0.0413  max mem: 11308\n",
            "Test: Total time: 0:00:07 (0.4281 s / it)\n",
            "Averaged stats: model_time: 0.1955 (0.1881)  evaluator_time: 0.2064 (0.1968)\n",
            "Accumulating evaluation results...\n",
            "DONE (t=0.03s).\n",
            "IoU metric: bbox\n",
            " Average Precision  (AP) @[ IoU=0.50:0.95 | area=   all | maxDets=100 ] = 0.296\n",
            " Average Precision  (AP) @[ IoU=0.50      | area=   all | maxDets=100 ] = 0.513\n",
            " Average Precision  (AP) @[ IoU=0.75      | area=   all | maxDets=100 ] = 0.309\n",
            " Average Precision  (AP) @[ IoU=0.50:0.95 | area= small | maxDets=100 ] = 0.362\n",
            " Average Precision  (AP) @[ IoU=0.50:0.95 | area=medium | maxDets=100 ] = 0.020\n",
            " Average Precision  (AP) @[ IoU=0.50:0.95 | area= large | maxDets=100 ] = 0.000\n",
            " Average Recall     (AR) @[ IoU=0.50:0.95 | area=   all | maxDets=  1 ] = 0.018\n",
            " Average Recall     (AR) @[ IoU=0.50:0.95 | area=   all | maxDets= 10 ] = 0.164\n",
            " Average Recall     (AR) @[ IoU=0.50:0.95 | area=   all | maxDets=100 ] = 0.437\n",
            " Average Recall     (AR) @[ IoU=0.50:0.95 | area= small | maxDets=100 ] = 0.473\n",
            " Average Recall     (AR) @[ IoU=0.50:0.95 | area=medium | maxDets=100 ] = 0.110\n",
            " Average Recall     (AR) @[ IoU=0.50:0.95 | area= large | maxDets=100 ] = 0.000\n"
          ],
          "name": "stdout"
        },
        {
          "output_type": "stream",
          "text": [
            "  3%|▎         | 5/150 [00:01<00:45,  3.17it/s]\n",
            " 28%|██▊       | 5/18 [00:01<00:04,  3.23it/s]\n"
          ],
          "name": "stderr"
        },
        {
          "output_type": "stream",
          "text": [
            "['loss_classifier', 'loss_box_reg', 'loss_objectness', 'loss_rpn_box_reg', 'Average Precision  (AP) @[ IoU=0.50:0.95 | area=   all | maxDets=100 ]', 'Average Precision  (AP) @[ IoU=0.50      | area=   all | maxDets=100 ]', 'Average Precision  (AP) @[ IoU=0.75      | area=   all | maxDets=100 ]', 'Average Precision  (AP) @[ IoU=0.50:0.95 | area= small | maxDets=100 ]', 'Average Precision  (AP) @[ IoU=0.50:0.95 | area=medium | maxDets=100 ]', 'Average Precision  (AP) @[ IoU=0.50:0.95 | area= large | maxDets=100 ]', 'Average Recall     (AR) @[ IoU=0.50:0.95 | area=   all | maxDets=  1 ]', 'Average Recall     (AR) @[ IoU=0.50:0.95 | area=   all | maxDets= 10 ]', 'Average Recall     (AR) @[ IoU=0.50:0.95 | area=   all | maxDets=100 ]', 'Average Recall     (AR) @[ IoU=0.50:0.95 | area= small | maxDets=100 ]', 'Average Recall     (AR) @[ IoU=0.50:0.95 | area=medium | maxDets=100 ]', 'Average Recall     (AR) @[ IoU=0.50:0.95 | area= large | maxDets=100 ] ']\n",
            "Epoch: [69]  [  0/150]  eta: 0:01:49  lr: 0.000004  loss: 0.3345 (0.3345)  loss_classifier: 0.1365 (0.1365)  loss_box_reg: 0.1086 (0.1086)  loss_objectness: 0.0196 (0.0196)  loss_rpn_box_reg: 0.0698 (0.0698)  time: 0.7308  data: 0.0316  max mem: 11308\n",
            "Epoch: [69]  [ 25/150]  eta: 0:01:31  lr: 0.000004  loss: 0.3057 (0.2970)  loss_classifier: 0.1230 (0.1161)  loss_box_reg: 0.0995 (0.0984)  loss_objectness: 0.0201 (0.0229)  loss_rpn_box_reg: 0.0562 (0.0595)  time: 0.7350  data: 0.0506  max mem: 11308\n",
            "Epoch: [69]  [ 50/150]  eta: 0:01:12  lr: 0.000004  loss: 0.2804 (0.3020)  loss_classifier: 0.1126 (0.1191)  loss_box_reg: 0.1036 (0.1020)  loss_objectness: 0.0187 (0.0229)  loss_rpn_box_reg: 0.0358 (0.0580)  time: 0.7234  data: 0.0439  max mem: 11308\n",
            "Epoch: [69]  [ 75/150]  eta: 0:00:54  lr: 0.000004  loss: 0.3141 (0.3037)  loss_classifier: 0.1249 (0.1196)  loss_box_reg: 0.1051 (0.1021)  loss_objectness: 0.0232 (0.0235)  loss_rpn_box_reg: 0.0448 (0.0586)  time: 0.7332  data: 0.0529  max mem: 11308\n",
            "Epoch: [69]  [100/150]  eta: 0:00:36  lr: 0.000004  loss: 0.3336 (0.3056)  loss_classifier: 0.1236 (0.1203)  loss_box_reg: 0.1005 (0.1026)  loss_objectness: 0.0243 (0.0237)  loss_rpn_box_reg: 0.0494 (0.0590)  time: 0.7277  data: 0.0448  max mem: 11308\n",
            "Epoch: [69]  [125/150]  eta: 0:00:18  lr: 0.000004  loss: 0.2942 (0.3041)  loss_classifier: 0.1132 (0.1191)  loss_box_reg: 0.1026 (0.1024)  loss_objectness: 0.0212 (0.0238)  loss_rpn_box_reg: 0.0462 (0.0589)  time: 0.7317  data: 0.0519  max mem: 11308\n",
            "Epoch: [69]  [149/150]  eta: 0:00:00  lr: 0.000004  loss: 0.3103 (0.3045)  loss_classifier: 0.1297 (0.1201)  loss_box_reg: 0.1004 (0.1030)  loss_objectness: 0.0189 (0.0237)  loss_rpn_box_reg: 0.0486 (0.0577)  time: 0.7342  data: 0.0529  max mem: 11308\n",
            "Epoch: [69] Total time: 0:01:49 (0.7307 s / it)\n",
            "creating index...\n",
            "index created!\n",
            "Test:  [  0/150]  eta: 0:01:18  model_time: 0.2096 (0.2096)  evaluator_time: 0.2762 (0.2762)  time: 0.5211  data: 0.0335  max mem: 11308\n",
            "Test:  [100/150]  eta: 0:00:22  model_time: 0.1952 (0.1958)  evaluator_time: 0.1669 (0.1940)  time: 0.4136  data: 0.0435  max mem: 11308\n",
            "Test:  [149/150]  eta: 0:00:00  model_time: 0.1955 (0.1959)  evaluator_time: 0.1317 (0.1923)  time: 0.4455  data: 0.0555  max mem: 11308\n",
            "Test: Total time: 0:01:06 (0.4417 s / it)\n",
            "Averaged stats: model_time: 0.1955 (0.1959)  evaluator_time: 0.1317 (0.1923)\n",
            "Accumulating evaluation results...\n",
            "DONE (t=0.32s).\n",
            "IoU metric: bbox\n",
            " Average Precision  (AP) @[ IoU=0.50:0.95 | area=   all | maxDets=100 ] = 0.196\n",
            " Average Precision  (AP) @[ IoU=0.50      | area=   all | maxDets=100 ] = 0.332\n",
            " Average Precision  (AP) @[ IoU=0.75      | area=   all | maxDets=100 ] = 0.205\n",
            " Average Precision  (AP) @[ IoU=0.50:0.95 | area= small | maxDets=100 ] = 0.259\n",
            " Average Precision  (AP) @[ IoU=0.50:0.95 | area=medium | maxDets=100 ] = 0.022\n",
            " Average Precision  (AP) @[ IoU=0.50:0.95 | area= large | maxDets=100 ] = 0.063\n",
            " Average Recall     (AR) @[ IoU=0.50:0.95 | area=   all | maxDets=  1 ] = 0.016\n",
            " Average Recall     (AR) @[ IoU=0.50:0.95 | area=   all | maxDets= 10 ] = 0.140\n",
            " Average Recall     (AR) @[ IoU=0.50:0.95 | area=   all | maxDets=100 ] = 0.365\n",
            " Average Recall     (AR) @[ IoU=0.50:0.95 | area= small | maxDets=100 ] = 0.404\n",
            " Average Recall     (AR) @[ IoU=0.50:0.95 | area=medium | maxDets=100 ] = 0.123\n",
            " Average Recall     (AR) @[ IoU=0.50:0.95 | area= large | maxDets=100 ] = 0.073\n",
            "creating index...\n",
            "index created!\n",
            "Test:  [ 0/18]  eta: 0:00:11  model_time: 0.1976 (0.1976)  evaluator_time: 0.3930 (0.3930)  time: 0.6657  data: 0.0732  max mem: 11308\n"
          ],
          "name": "stdout"
        },
        {
          "output_type": "stream",
          "text": [
            "\r  0%|          | 0/150 [00:00<?, ?it/s]"
          ],
          "name": "stderr"
        },
        {
          "output_type": "stream",
          "text": [
            "Test:  [17/18]  eta: 0:00:00  model_time: 0.1954 (0.1890)  evaluator_time: 0.1288 (0.1969)  time: 0.4305  data: 0.0427  max mem: 11308\n",
            "Test: Total time: 0:00:07 (0.4305 s / it)\n",
            "Averaged stats: model_time: 0.1954 (0.1890)  evaluator_time: 0.1288 (0.1969)\n",
            "Accumulating evaluation results...\n",
            "DONE (t=0.04s).\n",
            "IoU metric: bbox\n",
            " Average Precision  (AP) @[ IoU=0.50:0.95 | area=   all | maxDets=100 ] = 0.313\n",
            " Average Precision  (AP) @[ IoU=0.50      | area=   all | maxDets=100 ] = 0.561\n",
            " Average Precision  (AP) @[ IoU=0.75      | area=   all | maxDets=100 ] = 0.327\n",
            " Average Precision  (AP) @[ IoU=0.50:0.95 | area= small | maxDets=100 ] = 0.370\n",
            " Average Precision  (AP) @[ IoU=0.50:0.95 | area=medium | maxDets=100 ] = 0.053\n",
            " Average Precision  (AP) @[ IoU=0.50:0.95 | area= large | maxDets=100 ] = 0.000\n",
            " Average Recall     (AR) @[ IoU=0.50:0.95 | area=   all | maxDets=  1 ] = 0.018\n",
            " Average Recall     (AR) @[ IoU=0.50:0.95 | area=   all | maxDets= 10 ] = 0.165\n",
            " Average Recall     (AR) @[ IoU=0.50:0.95 | area=   all | maxDets=100 ] = 0.443\n",
            " Average Recall     (AR) @[ IoU=0.50:0.95 | area= small | maxDets=100 ] = 0.472\n",
            " Average Recall     (AR) @[ IoU=0.50:0.95 | area=medium | maxDets=100 ] = 0.196\n",
            " Average Recall     (AR) @[ IoU=0.50:0.95 | area= large | maxDets=100 ] = 0.000\n"
          ],
          "name": "stdout"
        },
        {
          "output_type": "stream",
          "text": [
            "  3%|▎         | 5/150 [00:01<00:45,  3.18it/s]\n",
            " 28%|██▊       | 5/18 [00:01<00:04,  3.15it/s]\n"
          ],
          "name": "stderr"
        },
        {
          "output_type": "stream",
          "text": [
            "['loss_classifier', 'loss_box_reg', 'loss_objectness', 'loss_rpn_box_reg', 'Average Precision  (AP) @[ IoU=0.50:0.95 | area=   all | maxDets=100 ]', 'Average Precision  (AP) @[ IoU=0.50      | area=   all | maxDets=100 ]', 'Average Precision  (AP) @[ IoU=0.75      | area=   all | maxDets=100 ]', 'Average Precision  (AP) @[ IoU=0.50:0.95 | area= small | maxDets=100 ]', 'Average Precision  (AP) @[ IoU=0.50:0.95 | area=medium | maxDets=100 ]', 'Average Precision  (AP) @[ IoU=0.50:0.95 | area= large | maxDets=100 ]', 'Average Recall     (AR) @[ IoU=0.50:0.95 | area=   all | maxDets=  1 ]', 'Average Recall     (AR) @[ IoU=0.50:0.95 | area=   all | maxDets= 10 ]', 'Average Recall     (AR) @[ IoU=0.50:0.95 | area=   all | maxDets=100 ]', 'Average Recall     (AR) @[ IoU=0.50:0.95 | area= small | maxDets=100 ]', 'Average Recall     (AR) @[ IoU=0.50:0.95 | area=medium | maxDets=100 ]', 'Average Recall     (AR) @[ IoU=0.50:0.95 | area= large | maxDets=100 ] ']\n",
            "Epoch: [70]  [  0/150]  eta: 0:01:47  lr: 0.000004  loss: 0.2481 (0.2481)  loss_classifier: 0.1155 (0.1155)  loss_box_reg: 0.0893 (0.0893)  loss_objectness: 0.0173 (0.0173)  loss_rpn_box_reg: 0.0260 (0.0260)  time: 0.7150  data: 0.0260  max mem: 11308\n",
            "Epoch: [70]  [ 25/150]  eta: 0:01:31  lr: 0.000004  loss: 0.2918 (0.3007)  loss_classifier: 0.1079 (0.1222)  loss_box_reg: 0.1071 (0.1066)  loss_objectness: 0.0202 (0.0220)  loss_rpn_box_reg: 0.0420 (0.0498)  time: 0.7305  data: 0.0477  max mem: 11308\n",
            "Epoch: [70]  [ 50/150]  eta: 0:01:13  lr: 0.000004  loss: 0.2843 (0.3061)  loss_classifier: 0.1116 (0.1215)  loss_box_reg: 0.1013 (0.1062)  loss_objectness: 0.0251 (0.0235)  loss_rpn_box_reg: 0.0448 (0.0550)  time: 0.7361  data: 0.0554  max mem: 11308\n",
            "Epoch: [70]  [ 75/150]  eta: 0:00:55  lr: 0.000004  loss: 0.3402 (0.3111)  loss_classifier: 0.1344 (0.1235)  loss_box_reg: 0.1088 (0.1069)  loss_objectness: 0.0187 (0.0239)  loss_rpn_box_reg: 0.0522 (0.0569)  time: 0.7337  data: 0.0509  max mem: 11308\n",
            "Epoch: [70]  [100/150]  eta: 0:00:36  lr: 0.000004  loss: 0.2584 (0.3114)  loss_classifier: 0.1063 (0.1228)  loss_box_reg: 0.0921 (0.1061)  loss_objectness: 0.0193 (0.0240)  loss_rpn_box_reg: 0.0431 (0.0586)  time: 0.7231  data: 0.0429  max mem: 11308\n",
            "Epoch: [70]  [125/150]  eta: 0:00:18  lr: 0.000004  loss: 0.2573 (0.3055)  loss_classifier: 0.1083 (0.1213)  loss_box_reg: 0.0967 (0.1045)  loss_objectness: 0.0169 (0.0231)  loss_rpn_box_reg: 0.0406 (0.0567)  time: 0.7241  data: 0.0426  max mem: 11308\n",
            "Epoch: [70]  [149/150]  eta: 0:00:00  lr: 0.000004  loss: 0.2776 (0.3013)  loss_classifier: 0.1058 (0.1196)  loss_box_reg: 0.0962 (0.1024)  loss_objectness: 0.0239 (0.0233)  loss_rpn_box_reg: 0.0496 (0.0559)  time: 0.7321  data: 0.0517  max mem: 11308\n",
            "Epoch: [70] Total time: 0:01:49 (0.7314 s / it)\n",
            "creating index...\n",
            "index created!\n",
            "Test:  [  0/150]  eta: 0:01:24  model_time: 0.2077 (0.2077)  evaluator_time: 0.2879 (0.2879)  time: 0.5632  data: 0.0655  max mem: 11308\n",
            "Test:  [100/150]  eta: 0:00:22  model_time: 0.1955 (0.1961)  evaluator_time: 0.2018 (0.1998)  time: 0.4510  data: 0.0530  max mem: 11308\n",
            "Test:  [149/150]  eta: 0:00:00  model_time: 0.1954 (0.1960)  evaluator_time: 0.1666 (0.1927)  time: 0.4287  data: 0.0495  max mem: 11308\n",
            "Test: Total time: 0:01:06 (0.4430 s / it)\n",
            "Averaged stats: model_time: 0.1954 (0.1960)  evaluator_time: 0.1666 (0.1927)\n",
            "Accumulating evaluation results...\n",
            "DONE (t=0.31s).\n",
            "IoU metric: bbox\n",
            " Average Precision  (AP) @[ IoU=0.50:0.95 | area=   all | maxDets=100 ] = 0.201\n",
            " Average Precision  (AP) @[ IoU=0.50      | area=   all | maxDets=100 ] = 0.337\n",
            " Average Precision  (AP) @[ IoU=0.75      | area=   all | maxDets=100 ] = 0.213\n",
            " Average Precision  (AP) @[ IoU=0.50:0.95 | area= small | maxDets=100 ] = 0.261\n",
            " Average Precision  (AP) @[ IoU=0.50:0.95 | area=medium | maxDets=100 ] = 0.025\n",
            " Average Precision  (AP) @[ IoU=0.50:0.95 | area= large | maxDets=100 ] = 0.109\n",
            " Average Recall     (AR) @[ IoU=0.50:0.95 | area=   all | maxDets=  1 ] = 0.016\n",
            " Average Recall     (AR) @[ IoU=0.50:0.95 | area=   all | maxDets= 10 ] = 0.144\n",
            " Average Recall     (AR) @[ IoU=0.50:0.95 | area=   all | maxDets=100 ] = 0.377\n",
            " Average Recall     (AR) @[ IoU=0.50:0.95 | area= small | maxDets=100 ] = 0.416\n",
            " Average Recall     (AR) @[ IoU=0.50:0.95 | area=medium | maxDets=100 ] = 0.130\n",
            " Average Recall     (AR) @[ IoU=0.50:0.95 | area= large | maxDets=100 ] = 0.110\n",
            "creating index...\n",
            "index created!\n",
            "Test:  [ 0/18]  eta: 0:00:14  model_time: 0.1960 (0.1960)  evaluator_time: 0.5572 (0.5572)  time: 0.7833  data: 0.0282  max mem: 11308\n"
          ],
          "name": "stdout"
        },
        {
          "output_type": "stream",
          "text": [
            "\r  0%|          | 0/150 [00:00<?, ?it/s]"
          ],
          "name": "stderr"
        },
        {
          "output_type": "stream",
          "text": [
            "Test:  [17/18]  eta: 0:00:00  model_time: 0.1954 (0.1882)  evaluator_time: 0.1408 (0.1885)  time: 0.4191  data: 0.0406  max mem: 11308\n",
            "Test: Total time: 0:00:07 (0.4191 s / it)\n",
            "Averaged stats: model_time: 0.1954 (0.1882)  evaluator_time: 0.1408 (0.1885)\n",
            "Accumulating evaluation results...\n",
            "DONE (t=0.04s).\n",
            "IoU metric: bbox\n",
            " Average Precision  (AP) @[ IoU=0.50:0.95 | area=   all | maxDets=100 ] = 0.302\n",
            " Average Precision  (AP) @[ IoU=0.50      | area=   all | maxDets=100 ] = 0.532\n",
            " Average Precision  (AP) @[ IoU=0.75      | area=   all | maxDets=100 ] = 0.307\n",
            " Average Precision  (AP) @[ IoU=0.50:0.95 | area= small | maxDets=100 ] = 0.365\n",
            " Average Precision  (AP) @[ IoU=0.50:0.95 | area=medium | maxDets=100 ] = 0.037\n",
            " Average Precision  (AP) @[ IoU=0.50:0.95 | area= large | maxDets=100 ] = 0.000\n",
            " Average Recall     (AR) @[ IoU=0.50:0.95 | area=   all | maxDets=  1 ] = 0.018\n",
            " Average Recall     (AR) @[ IoU=0.50:0.95 | area=   all | maxDets= 10 ] = 0.166\n",
            " Average Recall     (AR) @[ IoU=0.50:0.95 | area=   all | maxDets=100 ] = 0.443\n",
            " Average Recall     (AR) @[ IoU=0.50:0.95 | area= small | maxDets=100 ] = 0.480\n",
            " Average Recall     (AR) @[ IoU=0.50:0.95 | area=medium | maxDets=100 ] = 0.137\n",
            " Average Recall     (AR) @[ IoU=0.50:0.95 | area= large | maxDets=100 ] = 0.000\n"
          ],
          "name": "stdout"
        },
        {
          "output_type": "stream",
          "text": [
            "  3%|▎         | 5/150 [00:01<00:45,  3.17it/s]\n",
            " 28%|██▊       | 5/18 [00:01<00:04,  3.04it/s]\n"
          ],
          "name": "stderr"
        },
        {
          "output_type": "stream",
          "text": [
            "['loss_classifier', 'loss_box_reg', 'loss_objectness', 'loss_rpn_box_reg', 'Average Precision  (AP) @[ IoU=0.50:0.95 | area=   all | maxDets=100 ]', 'Average Precision  (AP) @[ IoU=0.50      | area=   all | maxDets=100 ]', 'Average Precision  (AP) @[ IoU=0.75      | area=   all | maxDets=100 ]', 'Average Precision  (AP) @[ IoU=0.50:0.95 | area= small | maxDets=100 ]', 'Average Precision  (AP) @[ IoU=0.50:0.95 | area=medium | maxDets=100 ]', 'Average Precision  (AP) @[ IoU=0.50:0.95 | area= large | maxDets=100 ]', 'Average Recall     (AR) @[ IoU=0.50:0.95 | area=   all | maxDets=  1 ]', 'Average Recall     (AR) @[ IoU=0.50:0.95 | area=   all | maxDets= 10 ]', 'Average Recall     (AR) @[ IoU=0.50:0.95 | area=   all | maxDets=100 ]', 'Average Recall     (AR) @[ IoU=0.50:0.95 | area= small | maxDets=100 ]', 'Average Recall     (AR) @[ IoU=0.50:0.95 | area=medium | maxDets=100 ]', 'Average Recall     (AR) @[ IoU=0.50:0.95 | area= large | maxDets=100 ] ']\n",
            "Epoch: [71]  [  0/150]  eta: 0:01:47  lr: 0.000004  loss: 0.2314 (0.2314)  loss_classifier: 0.0942 (0.0942)  loss_box_reg: 0.0818 (0.0818)  loss_objectness: 0.0283 (0.0283)  loss_rpn_box_reg: 0.0271 (0.0271)  time: 0.7194  data: 0.0290  max mem: 11308\n",
            "Epoch: [71]  [ 25/150]  eta: 0:01:31  lr: 0.000004  loss: 0.2228 (0.2826)  loss_classifier: 0.1002 (0.1098)  loss_box_reg: 0.0892 (0.0943)  loss_objectness: 0.0150 (0.0228)  loss_rpn_box_reg: 0.0351 (0.0557)  time: 0.7300  data: 0.0466  max mem: 11308\n",
            "Epoch: [71]  [ 50/150]  eta: 0:01:13  lr: 0.000004  loss: 0.3290 (0.3179)  loss_classifier: 0.1218 (0.1207)  loss_box_reg: 0.1018 (0.1032)  loss_objectness: 0.0285 (0.0272)  loss_rpn_box_reg: 0.0604 (0.0668)  time: 0.7383  data: 0.0543  max mem: 11308\n",
            "Epoch: [71]  [ 75/150]  eta: 0:00:54  lr: 0.000004  loss: 0.2525 (0.3068)  loss_classifier: 0.1029 (0.1169)  loss_box_reg: 0.0908 (0.1013)  loss_objectness: 0.0211 (0.0263)  loss_rpn_box_reg: 0.0453 (0.0622)  time: 0.7323  data: 0.0508  max mem: 11308\n",
            "Epoch: [71]  [100/150]  eta: 0:00:36  lr: 0.000004  loss: 0.2907 (0.3077)  loss_classifier: 0.1199 (0.1186)  loss_box_reg: 0.0982 (0.1019)  loss_objectness: 0.0246 (0.0260)  loss_rpn_box_reg: 0.0486 (0.0612)  time: 0.7301  data: 0.0489  max mem: 11308\n",
            "Epoch: [71]  [125/150]  eta: 0:00:18  lr: 0.000004  loss: 0.2641 (0.3019)  loss_classifier: 0.1027 (0.1173)  loss_box_reg: 0.0973 (0.1012)  loss_objectness: 0.0221 (0.0250)  loss_rpn_box_reg: 0.0430 (0.0584)  time: 0.7320  data: 0.0531  max mem: 11308\n",
            "Epoch: [71]  [149/150]  eta: 0:00:00  lr: 0.000004  loss: 0.3049 (0.3032)  loss_classifier: 0.1243 (0.1183)  loss_box_reg: 0.0931 (0.1017)  loss_objectness: 0.0189 (0.0247)  loss_rpn_box_reg: 0.0559 (0.0585)  time: 0.7315  data: 0.0503  max mem: 11308\n",
            "Epoch: [71] Total time: 0:01:49 (0.7318 s / it)\n",
            "creating index...\n",
            "index created!\n",
            "Test:  [  0/150]  eta: 0:01:02  model_time: 0.2114 (0.2114)  evaluator_time: 0.1711 (0.1711)  time: 0.4176  data: 0.0332  max mem: 11308\n",
            "Test:  [100/150]  eta: 0:00:21  model_time: 0.1947 (0.1957)  evaluator_time: 0.1388 (0.1890)  time: 0.4102  data: 0.0422  max mem: 11308\n",
            "Test:  [149/150]  eta: 0:00:00  model_time: 0.1952 (0.1956)  evaluator_time: 0.2037 (0.1841)  time: 0.4538  data: 0.0537  max mem: 11308\n",
            "Test: Total time: 0:01:05 (0.4333 s / it)\n",
            "Averaged stats: model_time: 0.1952 (0.1956)  evaluator_time: 0.2037 (0.1841)\n",
            "Accumulating evaluation results...\n",
            "DONE (t=0.30s).\n",
            "IoU metric: bbox\n",
            " Average Precision  (AP) @[ IoU=0.50:0.95 | area=   all | maxDets=100 ] = 0.198\n",
            " Average Precision  (AP) @[ IoU=0.50      | area=   all | maxDets=100 ] = 0.330\n",
            " Average Precision  (AP) @[ IoU=0.75      | area=   all | maxDets=100 ] = 0.207\n",
            " Average Precision  (AP) @[ IoU=0.50:0.95 | area= small | maxDets=100 ] = 0.261\n",
            " Average Precision  (AP) @[ IoU=0.50:0.95 | area=medium | maxDets=100 ] = 0.020\n",
            " Average Precision  (AP) @[ IoU=0.50:0.95 | area= large | maxDets=100 ] = 0.211\n",
            " Average Recall     (AR) @[ IoU=0.50:0.95 | area=   all | maxDets=  1 ] = 0.016\n",
            " Average Recall     (AR) @[ IoU=0.50:0.95 | area=   all | maxDets= 10 ] = 0.141\n",
            " Average Recall     (AR) @[ IoU=0.50:0.95 | area=   all | maxDets=100 ] = 0.368\n",
            " Average Recall     (AR) @[ IoU=0.50:0.95 | area= small | maxDets=100 ] = 0.408\n",
            " Average Recall     (AR) @[ IoU=0.50:0.95 | area=medium | maxDets=100 ] = 0.119\n",
            " Average Recall     (AR) @[ IoU=0.50:0.95 | area= large | maxDets=100 ] = 0.225\n",
            "creating index...\n",
            "index created!\n",
            "Test:  [ 0/18]  eta: 0:00:06  model_time: 0.1973 (0.1973)  evaluator_time: 0.1137 (0.1137)  time: 0.3469  data: 0.0339  max mem: 11308\n"
          ],
          "name": "stdout"
        },
        {
          "output_type": "stream",
          "text": [
            "\r  0%|          | 0/150 [00:00<?, ?it/s]"
          ],
          "name": "stderr"
        },
        {
          "output_type": "stream",
          "text": [
            "Test:  [17/18]  eta: 0:00:00  model_time: 0.1959 (0.1889)  evaluator_time: 0.1259 (0.1903)  time: 0.4236  data: 0.0426  max mem: 11308\n",
            "Test: Total time: 0:00:07 (0.4237 s / it)\n",
            "Averaged stats: model_time: 0.1959 (0.1889)  evaluator_time: 0.1259 (0.1903)\n",
            "Accumulating evaluation results...\n",
            "DONE (t=0.03s).\n",
            "IoU metric: bbox\n",
            " Average Precision  (AP) @[ IoU=0.50:0.95 | area=   all | maxDets=100 ] = 0.298\n",
            " Average Precision  (AP) @[ IoU=0.50      | area=   all | maxDets=100 ] = 0.508\n",
            " Average Precision  (AP) @[ IoU=0.75      | area=   all | maxDets=100 ] = 0.316\n",
            " Average Precision  (AP) @[ IoU=0.50:0.95 | area= small | maxDets=100 ] = 0.360\n",
            " Average Precision  (AP) @[ IoU=0.50:0.95 | area=medium | maxDets=100 ] = 0.021\n",
            " Average Precision  (AP) @[ IoU=0.50:0.95 | area= large | maxDets=100 ] = 0.000\n",
            " Average Recall     (AR) @[ IoU=0.50:0.95 | area=   all | maxDets=  1 ] = 0.018\n",
            " Average Recall     (AR) @[ IoU=0.50:0.95 | area=   all | maxDets= 10 ] = 0.161\n",
            " Average Recall     (AR) @[ IoU=0.50:0.95 | area=   all | maxDets=100 ] = 0.431\n",
            " Average Recall     (AR) @[ IoU=0.50:0.95 | area= small | maxDets=100 ] = 0.466\n",
            " Average Recall     (AR) @[ IoU=0.50:0.95 | area=medium | maxDets=100 ] = 0.116\n",
            " Average Recall     (AR) @[ IoU=0.50:0.95 | area= large | maxDets=100 ] = 0.000\n"
          ],
          "name": "stdout"
        },
        {
          "output_type": "stream",
          "text": [
            "  3%|▎         | 5/150 [00:01<00:47,  3.03it/s]\n",
            " 28%|██▊       | 5/18 [00:01<00:04,  3.24it/s]\n"
          ],
          "name": "stderr"
        },
        {
          "output_type": "stream",
          "text": [
            "['loss_classifier', 'loss_box_reg', 'loss_objectness', 'loss_rpn_box_reg', 'Average Precision  (AP) @[ IoU=0.50:0.95 | area=   all | maxDets=100 ]', 'Average Precision  (AP) @[ IoU=0.50      | area=   all | maxDets=100 ]', 'Average Precision  (AP) @[ IoU=0.75      | area=   all | maxDets=100 ]', 'Average Precision  (AP) @[ IoU=0.50:0.95 | area= small | maxDets=100 ]', 'Average Precision  (AP) @[ IoU=0.50:0.95 | area=medium | maxDets=100 ]', 'Average Precision  (AP) @[ IoU=0.50:0.95 | area= large | maxDets=100 ]', 'Average Recall     (AR) @[ IoU=0.50:0.95 | area=   all | maxDets=  1 ]', 'Average Recall     (AR) @[ IoU=0.50:0.95 | area=   all | maxDets= 10 ]', 'Average Recall     (AR) @[ IoU=0.50:0.95 | area=   all | maxDets=100 ]', 'Average Recall     (AR) @[ IoU=0.50:0.95 | area= small | maxDets=100 ]', 'Average Recall     (AR) @[ IoU=0.50:0.95 | area=medium | maxDets=100 ]', 'Average Recall     (AR) @[ IoU=0.50:0.95 | area= large | maxDets=100 ] ']\n",
            "Epoch: [72]  [  0/150]  eta: 0:01:49  lr: 0.000004  loss: 0.3139 (0.3139)  loss_classifier: 0.1319 (0.1319)  loss_box_reg: 0.1074 (0.1074)  loss_objectness: 0.0197 (0.0197)  loss_rpn_box_reg: 0.0550 (0.0550)  time: 0.7304  data: 0.0432  max mem: 11308\n",
            "Epoch: [72]  [ 25/150]  eta: 0:01:31  lr: 0.000004  loss: 0.2701 (0.3002)  loss_classifier: 0.1157 (0.1245)  loss_box_reg: 0.0933 (0.1039)  loss_objectness: 0.0200 (0.0224)  loss_rpn_box_reg: 0.0455 (0.0495)  time: 0.7396  data: 0.0533  max mem: 11308\n",
            "Epoch: [72]  [ 50/150]  eta: 0:01:13  lr: 0.000004  loss: 0.3287 (0.3000)  loss_classifier: 0.1282 (0.1205)  loss_box_reg: 0.1021 (0.1019)  loss_objectness: 0.0228 (0.0237)  loss_rpn_box_reg: 0.0600 (0.0538)  time: 0.7313  data: 0.0480  max mem: 11308\n",
            "Epoch: [72]  [ 75/150]  eta: 0:00:55  lr: 0.000004  loss: 0.2796 (0.2928)  loss_classifier: 0.1124 (0.1170)  loss_box_reg: 0.0922 (0.0985)  loss_objectness: 0.0179 (0.0229)  loss_rpn_box_reg: 0.0447 (0.0544)  time: 0.7296  data: 0.0463  max mem: 11308\n",
            "Epoch: [72]  [100/150]  eta: 0:00:36  lr: 0.000004  loss: 0.2601 (0.2978)  loss_classifier: 0.0970 (0.1181)  loss_box_reg: 0.0884 (0.0999)  loss_objectness: 0.0208 (0.0230)  loss_rpn_box_reg: 0.0524 (0.0568)  time: 0.7313  data: 0.0495  max mem: 11308\n",
            "Epoch: [72]  [125/150]  eta: 0:00:18  lr: 0.000004  loss: 0.2750 (0.2949)  loss_classifier: 0.1158 (0.1170)  loss_box_reg: 0.0938 (0.0993)  loss_objectness: 0.0195 (0.0225)  loss_rpn_box_reg: 0.0458 (0.0561)  time: 0.7304  data: 0.0510  max mem: 11308\n",
            "Epoch: [72]  [149/150]  eta: 0:00:00  lr: 0.000004  loss: 0.2784 (0.2960)  loss_classifier: 0.1148 (0.1177)  loss_box_reg: 0.1001 (0.1001)  loss_objectness: 0.0167 (0.0223)  loss_rpn_box_reg: 0.0453 (0.0559)  time: 0.7304  data: 0.0486  max mem: 11308\n",
            "Epoch: [72] Total time: 0:01:50 (0.7334 s / it)\n",
            "creating index...\n",
            "index created!\n",
            "Test:  [  0/150]  eta: 0:01:23  model_time: 0.2124 (0.2124)  evaluator_time: 0.2625 (0.2625)  time: 0.5580  data: 0.0811  max mem: 11308\n",
            "Test:  [100/150]  eta: 0:00:21  model_time: 0.1956 (0.1966)  evaluator_time: 0.1517 (0.1851)  time: 0.4286  data: 0.0483  max mem: 11308\n",
            "Test:  [149/150]  eta: 0:00:00  model_time: 0.1961 (0.1965)  evaluator_time: 0.1660 (0.1905)  time: 0.4229  data: 0.0561  max mem: 11308\n",
            "Test: Total time: 0:01:06 (0.4438 s / it)\n",
            "Averaged stats: model_time: 0.1961 (0.1965)  evaluator_time: 0.1660 (0.1905)\n",
            "Accumulating evaluation results...\n",
            "DONE (t=0.30s).\n",
            "IoU metric: bbox\n",
            " Average Precision  (AP) @[ IoU=0.50:0.95 | area=   all | maxDets=100 ] = 0.185\n",
            " Average Precision  (AP) @[ IoU=0.50      | area=   all | maxDets=100 ] = 0.309\n",
            " Average Precision  (AP) @[ IoU=0.75      | area=   all | maxDets=100 ] = 0.196\n",
            " Average Precision  (AP) @[ IoU=0.50:0.95 | area= small | maxDets=100 ] = 0.247\n",
            " Average Precision  (AP) @[ IoU=0.50:0.95 | area=medium | maxDets=100 ] = 0.016\n",
            " Average Precision  (AP) @[ IoU=0.50:0.95 | area= large | maxDets=100 ] = 0.035\n",
            " Average Recall     (AR) @[ IoU=0.50:0.95 | area=   all | maxDets=  1 ] = 0.015\n",
            " Average Recall     (AR) @[ IoU=0.50:0.95 | area=   all | maxDets= 10 ] = 0.137\n",
            " Average Recall     (AR) @[ IoU=0.50:0.95 | area=   all | maxDets=100 ] = 0.364\n",
            " Average Recall     (AR) @[ IoU=0.50:0.95 | area= small | maxDets=100 ] = 0.406\n",
            " Average Recall     (AR) @[ IoU=0.50:0.95 | area=medium | maxDets=100 ] = 0.102\n",
            " Average Recall     (AR) @[ IoU=0.50:0.95 | area= large | maxDets=100 ] = 0.033\n",
            "creating index...\n",
            "index created!\n",
            "Test:  [ 0/18]  eta: 0:00:04  model_time: 0.1955 (0.1955)  evaluator_time: 0.0216 (0.0216)  time: 0.2609  data: 0.0420  max mem: 11308\n"
          ],
          "name": "stdout"
        },
        {
          "output_type": "stream",
          "text": [
            "\r  0%|          | 0/150 [00:00<?, ?it/s]"
          ],
          "name": "stderr"
        },
        {
          "output_type": "stream",
          "text": [
            "Test:  [17/18]  eta: 0:00:00  model_time: 0.1955 (0.1885)  evaluator_time: 0.1275 (0.1861)  time: 0.4240  data: 0.0476  max mem: 11308\n",
            "Test: Total time: 0:00:07 (0.4241 s / it)\n",
            "Averaged stats: model_time: 0.1955 (0.1885)  evaluator_time: 0.1275 (0.1861)\n",
            "Accumulating evaluation results...\n",
            "DONE (t=0.03s).\n",
            "IoU metric: bbox\n",
            " Average Precision  (AP) @[ IoU=0.50:0.95 | area=   all | maxDets=100 ] = 0.309\n",
            " Average Precision  (AP) @[ IoU=0.50      | area=   all | maxDets=100 ] = 0.528\n",
            " Average Precision  (AP) @[ IoU=0.75      | area=   all | maxDets=100 ] = 0.323\n",
            " Average Precision  (AP) @[ IoU=0.50:0.95 | area= small | maxDets=100 ] = 0.373\n",
            " Average Precision  (AP) @[ IoU=0.50:0.95 | area=medium | maxDets=100 ] = 0.029\n",
            " Average Precision  (AP) @[ IoU=0.50:0.95 | area= large | maxDets=100 ] = 0.000\n",
            " Average Recall     (AR) @[ IoU=0.50:0.95 | area=   all | maxDets=  1 ] = 0.019\n",
            " Average Recall     (AR) @[ IoU=0.50:0.95 | area=   all | maxDets= 10 ] = 0.169\n",
            " Average Recall     (AR) @[ IoU=0.50:0.95 | area=   all | maxDets=100 ] = 0.451\n",
            " Average Recall     (AR) @[ IoU=0.50:0.95 | area= small | maxDets=100 ] = 0.486\n",
            " Average Recall     (AR) @[ IoU=0.50:0.95 | area=medium | maxDets=100 ] = 0.138\n",
            " Average Recall     (AR) @[ IoU=0.50:0.95 | area= large | maxDets=100 ] = 0.000\n"
          ],
          "name": "stdout"
        },
        {
          "output_type": "stream",
          "text": [
            "  3%|▎         | 5/150 [00:01<00:49,  2.93it/s]\n",
            " 28%|██▊       | 5/18 [00:01<00:04,  3.16it/s]\n"
          ],
          "name": "stderr"
        },
        {
          "output_type": "stream",
          "text": [
            "['loss_classifier', 'loss_box_reg', 'loss_objectness', 'loss_rpn_box_reg', 'Average Precision  (AP) @[ IoU=0.50:0.95 | area=   all | maxDets=100 ]', 'Average Precision  (AP) @[ IoU=0.50      | area=   all | maxDets=100 ]', 'Average Precision  (AP) @[ IoU=0.75      | area=   all | maxDets=100 ]', 'Average Precision  (AP) @[ IoU=0.50:0.95 | area= small | maxDets=100 ]', 'Average Precision  (AP) @[ IoU=0.50:0.95 | area=medium | maxDets=100 ]', 'Average Precision  (AP) @[ IoU=0.50:0.95 | area= large | maxDets=100 ]', 'Average Recall     (AR) @[ IoU=0.50:0.95 | area=   all | maxDets=  1 ]', 'Average Recall     (AR) @[ IoU=0.50:0.95 | area=   all | maxDets= 10 ]', 'Average Recall     (AR) @[ IoU=0.50:0.95 | area=   all | maxDets=100 ]', 'Average Recall     (AR) @[ IoU=0.50:0.95 | area= small | maxDets=100 ]', 'Average Recall     (AR) @[ IoU=0.50:0.95 | area=medium | maxDets=100 ]', 'Average Recall     (AR) @[ IoU=0.50:0.95 | area= large | maxDets=100 ] ']\n",
            "Epoch: [73]  [  0/150]  eta: 0:01:50  lr: 0.000004  loss: 0.2726 (0.2726)  loss_classifier: 0.1081 (0.1081)  loss_box_reg: 0.0963 (0.0963)  loss_objectness: 0.0177 (0.0177)  loss_rpn_box_reg: 0.0505 (0.0505)  time: 0.7366  data: 0.0336  max mem: 11308\n",
            "Epoch: [73]  [ 25/150]  eta: 0:01:31  lr: 0.000004  loss: 0.2723 (0.2646)  loss_classifier: 0.1142 (0.1055)  loss_box_reg: 0.0946 (0.0909)  loss_objectness: 0.0170 (0.0189)  loss_rpn_box_reg: 0.0493 (0.0493)  time: 0.7348  data: 0.0493  max mem: 11308\n",
            "Epoch: [73]  [ 50/150]  eta: 0:01:13  lr: 0.000004  loss: 0.3030 (0.2771)  loss_classifier: 0.1264 (0.1126)  loss_box_reg: 0.0877 (0.0936)  loss_objectness: 0.0197 (0.0193)  loss_rpn_box_reg: 0.0575 (0.0516)  time: 0.7312  data: 0.0457  max mem: 11308\n",
            "Epoch: [73]  [ 75/150]  eta: 0:00:55  lr: 0.000004  loss: 0.3343 (0.2874)  loss_classifier: 0.1278 (0.1163)  loss_box_reg: 0.1132 (0.0987)  loss_objectness: 0.0244 (0.0200)  loss_rpn_box_reg: 0.0488 (0.0523)  time: 0.7469  data: 0.0637  max mem: 11308\n",
            "Epoch: [73]  [100/150]  eta: 0:00:36  lr: 0.000004  loss: 0.3010 (0.2910)  loss_classifier: 0.1251 (0.1178)  loss_box_reg: 0.1049 (0.1009)  loss_objectness: 0.0191 (0.0202)  loss_rpn_box_reg: 0.0454 (0.0521)  time: 0.7442  data: 0.0579  max mem: 11308\n",
            "Epoch: [73]  [125/150]  eta: 0:00:18  lr: 0.000004  loss: 0.2692 (0.2928)  loss_classifier: 0.1163 (0.1184)  loss_box_reg: 0.0935 (0.1010)  loss_objectness: 0.0191 (0.0210)  loss_rpn_box_reg: 0.0390 (0.0524)  time: 0.7411  data: 0.0558  max mem: 11308\n",
            "Epoch: [73]  [149/150]  eta: 0:00:00  lr: 0.000004  loss: 0.2707 (0.2938)  loss_classifier: 0.1110 (0.1187)  loss_box_reg: 0.0842 (0.1009)  loss_objectness: 0.0215 (0.0216)  loss_rpn_box_reg: 0.0430 (0.0526)  time: 0.7492  data: 0.0614  max mem: 11308\n",
            "Epoch: [73] Total time: 0:01:50 (0.7386 s / it)\n",
            "creating index...\n",
            "index created!\n",
            "Test:  [  0/150]  eta: 0:01:09  model_time: 0.2082 (0.2082)  evaluator_time: 0.1681 (0.1681)  time: 0.4615  data: 0.0830  max mem: 11308\n",
            "Test:  [100/150]  eta: 0:00:22  model_time: 0.1971 (0.1970)  evaluator_time: 0.1899 (0.1910)  time: 0.4718  data: 0.0603  max mem: 11308\n",
            "Test:  [149/150]  eta: 0:00:00  model_time: 0.1968 (0.1970)  evaluator_time: 0.1645 (0.1920)  time: 0.4281  data: 0.0497  max mem: 11308\n",
            "Test: Total time: 0:01:06 (0.4449 s / it)\n",
            "Averaged stats: model_time: 0.1968 (0.1970)  evaluator_time: 0.1645 (0.1920)\n",
            "Accumulating evaluation results...\n",
            "DONE (t=0.33s).\n",
            "IoU metric: bbox\n",
            " Average Precision  (AP) @[ IoU=0.50:0.95 | area=   all | maxDets=100 ] = 0.198\n",
            " Average Precision  (AP) @[ IoU=0.50      | area=   all | maxDets=100 ] = 0.331\n",
            " Average Precision  (AP) @[ IoU=0.75      | area=   all | maxDets=100 ] = 0.206\n",
            " Average Precision  (AP) @[ IoU=0.50:0.95 | area= small | maxDets=100 ] = 0.260\n",
            " Average Precision  (AP) @[ IoU=0.50:0.95 | area=medium | maxDets=100 ] = 0.020\n",
            " Average Precision  (AP) @[ IoU=0.50:0.95 | area= large | maxDets=100 ] = 0.268\n",
            " Average Recall     (AR) @[ IoU=0.50:0.95 | area=   all | maxDets=  1 ] = 0.016\n",
            " Average Recall     (AR) @[ IoU=0.50:0.95 | area=   all | maxDets= 10 ] = 0.142\n",
            " Average Recall     (AR) @[ IoU=0.50:0.95 | area=   all | maxDets=100 ] = 0.372\n",
            " Average Recall     (AR) @[ IoU=0.50:0.95 | area= small | maxDets=100 ] = 0.412\n",
            " Average Recall     (AR) @[ IoU=0.50:0.95 | area=medium | maxDets=100 ] = 0.119\n",
            " Average Recall     (AR) @[ IoU=0.50:0.95 | area= large | maxDets=100 ] = 0.270\n",
            "creating index...\n",
            "index created!\n",
            "Test:  [ 0/18]  eta: 0:00:06  model_time: 0.1978 (0.1978)  evaluator_time: 0.0195 (0.0195)  time: 0.3813  data: 0.1622  max mem: 11308\n"
          ],
          "name": "stdout"
        },
        {
          "output_type": "stream",
          "text": [
            "\r  0%|          | 0/150 [00:00<?, ?it/s]"
          ],
          "name": "stderr"
        },
        {
          "output_type": "stream",
          "text": [
            "Test:  [17/18]  eta: 0:00:00  model_time: 0.1960 (0.1891)  evaluator_time: 0.1555 (0.1817)  time: 0.4203  data: 0.0477  max mem: 11308\n",
            "Test: Total time: 0:00:07 (0.4204 s / it)\n",
            "Averaged stats: model_time: 0.1960 (0.1891)  evaluator_time: 0.1555 (0.1817)\n",
            "Accumulating evaluation results...\n",
            "DONE (t=0.03s).\n",
            "IoU metric: bbox\n",
            " Average Precision  (AP) @[ IoU=0.50:0.95 | area=   all | maxDets=100 ] = 0.300\n",
            " Average Precision  (AP) @[ IoU=0.50      | area=   all | maxDets=100 ] = 0.509\n",
            " Average Precision  (AP) @[ IoU=0.75      | area=   all | maxDets=100 ] = 0.321\n",
            " Average Precision  (AP) @[ IoU=0.50:0.95 | area= small | maxDets=100 ] = 0.362\n",
            " Average Precision  (AP) @[ IoU=0.50:0.95 | area=medium | maxDets=100 ] = 0.033\n",
            " Average Precision  (AP) @[ IoU=0.50:0.95 | area= large | maxDets=100 ] = 0.000\n",
            " Average Recall     (AR) @[ IoU=0.50:0.95 | area=   all | maxDets=  1 ] = 0.019\n",
            " Average Recall     (AR) @[ IoU=0.50:0.95 | area=   all | maxDets= 10 ] = 0.166\n",
            " Average Recall     (AR) @[ IoU=0.50:0.95 | area=   all | maxDets=100 ] = 0.439\n",
            " Average Recall     (AR) @[ IoU=0.50:0.95 | area= small | maxDets=100 ] = 0.474\n",
            " Average Recall     (AR) @[ IoU=0.50:0.95 | area=medium | maxDets=100 ] = 0.137\n",
            " Average Recall     (AR) @[ IoU=0.50:0.95 | area= large | maxDets=100 ] = 0.000\n"
          ],
          "name": "stdout"
        },
        {
          "output_type": "stream",
          "text": [
            "  3%|▎         | 5/150 [00:01<00:46,  3.14it/s]\n",
            " 28%|██▊       | 5/18 [00:01<00:04,  3.08it/s]\n"
          ],
          "name": "stderr"
        },
        {
          "output_type": "stream",
          "text": [
            "['loss_classifier', 'loss_box_reg', 'loss_objectness', 'loss_rpn_box_reg', 'Average Precision  (AP) @[ IoU=0.50:0.95 | area=   all | maxDets=100 ]', 'Average Precision  (AP) @[ IoU=0.50      | area=   all | maxDets=100 ]', 'Average Precision  (AP) @[ IoU=0.75      | area=   all | maxDets=100 ]', 'Average Precision  (AP) @[ IoU=0.50:0.95 | area= small | maxDets=100 ]', 'Average Precision  (AP) @[ IoU=0.50:0.95 | area=medium | maxDets=100 ]', 'Average Precision  (AP) @[ IoU=0.50:0.95 | area= large | maxDets=100 ]', 'Average Recall     (AR) @[ IoU=0.50:0.95 | area=   all | maxDets=  1 ]', 'Average Recall     (AR) @[ IoU=0.50:0.95 | area=   all | maxDets= 10 ]', 'Average Recall     (AR) @[ IoU=0.50:0.95 | area=   all | maxDets=100 ]', 'Average Recall     (AR) @[ IoU=0.50:0.95 | area= small | maxDets=100 ]', 'Average Recall     (AR) @[ IoU=0.50:0.95 | area=medium | maxDets=100 ]', 'Average Recall     (AR) @[ IoU=0.50:0.95 | area= large | maxDets=100 ] ']\n",
            "Epoch: [74]  [  0/150]  eta: 0:01:53  lr: 0.000004  loss: 0.3486 (0.3486)  loss_classifier: 0.1255 (0.1255)  loss_box_reg: 0.0911 (0.0911)  loss_objectness: 0.0370 (0.0370)  loss_rpn_box_reg: 0.0950 (0.0950)  time: 0.7555  data: 0.0594  max mem: 11308\n",
            "Epoch: [74]  [ 25/150]  eta: 0:01:32  lr: 0.000004  loss: 0.2820 (0.2897)  loss_classifier: 0.1108 (0.1160)  loss_box_reg: 0.0941 (0.0989)  loss_objectness: 0.0200 (0.0232)  loss_rpn_box_reg: 0.0370 (0.0515)  time: 0.7420  data: 0.0540  max mem: 11308\n",
            "Epoch: [74]  [ 50/150]  eta: 0:01:13  lr: 0.000004  loss: 0.3172 (0.4225)  loss_classifier: 0.1204 (0.1217)  loss_box_reg: 0.1090 (0.1018)  loss_objectness: 0.0207 (0.0476)  loss_rpn_box_reg: 0.0491 (0.1515)  time: 0.7265  data: 0.0456  max mem: 11308\n",
            "Epoch: [74]  [ 75/150]  eta: 0:00:55  lr: 0.000004  loss: 0.3314 (0.3882)  loss_classifier: 0.1361 (0.1225)  loss_box_reg: 0.1122 (0.1033)  loss_objectness: 0.0227 (0.0400)  loss_rpn_box_reg: 0.0555 (0.1224)  time: 0.7412  data: 0.0563  max mem: 11308\n",
            "Epoch: [74]  [100/150]  eta: 0:00:36  lr: 0.000004  loss: 0.2923 (0.3633)  loss_classifier: 0.1130 (0.1200)  loss_box_reg: 0.1053 (0.1021)  loss_objectness: 0.0192 (0.0353)  loss_rpn_box_reg: 0.0488 (0.1058)  time: 0.7315  data: 0.0487  max mem: 11308\n",
            "Epoch: [74]  [125/150]  eta: 0:00:18  lr: 0.000004  loss: 0.3083 (0.3499)  loss_classifier: 0.1122 (0.1193)  loss_box_reg: 0.0994 (0.1015)  loss_objectness: 0.0217 (0.0325)  loss_rpn_box_reg: 0.0496 (0.0966)  time: 0.7416  data: 0.0562  max mem: 11308\n",
            "Epoch: [74]  [149/150]  eta: 0:00:00  lr: 0.000004  loss: 0.2939 (0.3393)  loss_classifier: 0.1195 (0.1187)  loss_box_reg: 0.0966 (0.1006)  loss_objectness: 0.0188 (0.0307)  loss_rpn_box_reg: 0.0444 (0.0893)  time: 0.7279  data: 0.0436  max mem: 11308\n",
            "Epoch: [74] Total time: 0:01:50 (0.7355 s / it)\n",
            "creating index...\n",
            "index created!\n",
            "Test:  [  0/150]  eta: 0:01:25  model_time: 0.2143 (0.2143)  evaluator_time: 0.3125 (0.3125)  time: 0.5708  data: 0.0420  max mem: 11308\n",
            "Test:  [100/150]  eta: 0:00:22  model_time: 0.1957 (0.1967)  evaluator_time: 0.1477 (0.1879)  time: 0.4119  data: 0.0628  max mem: 11308\n"
          ],
          "name": "stdout"
        }
      ]
    },
    {
      "cell_type": "code",
      "metadata": {
        "id": "9PYo7sxo0VRU",
        "colab_type": "code",
        "colab": {}
      },
      "source": [
        ""
      ],
      "execution_count": 0,
      "outputs": []
    }
  ]
}